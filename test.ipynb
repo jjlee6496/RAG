{
 "cells": [
  {
   "cell_type": "code",
   "execution_count": 1,
   "metadata": {},
   "outputs": [],
   "source": [
    "import openai\n",
    "import os\n",
    "from dotenv import load_dotenv\n",
    "from trulens_eval import Tru\n",
    "\n",
    "load_dotenv()\n",
    "openai.api_key = os.environ.get('OPENAI_API_KEY')"
   ]
  },
  {
   "cell_type": "code",
   "execution_count": 2,
   "metadata": {},
   "outputs": [],
   "source": [
    "import os\n",
    "\n",
    "from llama_index import (\n",
    "    ServiceContext,\n",
    "    StorageContext,\n",
    "    VectorStoreIndex,\n",
    "    load_index_from_storage,\n",
    ")\n",
    "from llama_index.node_parser import HierarchicalNodeParser\n",
    "from llama_index.node_parser import get_leaf_nodes\n",
    "from llama_index import StorageContext, load_index_from_storage\n",
    "from llama_index.retrievers import AutoMergingRetriever\n",
    "from llama_index.indices.postprocessor import SentenceTransformerRerank\n",
    "from llama_index.query_engine import RetrieverQueryEngine\n",
    "\n",
    "\n",
    "def build_automerging_index(\n",
    "    documents,\n",
    "    llm,\n",
    "    embed_model=\"local:BAAI/bge-small-en-v1.5\",\n",
    "    save_dir=\"merging_index\",\n",
    "    chunk_sizes=None,\n",
    "):\n",
    "    chunk_sizes = chunk_sizes or [2048, 512, 128]\n",
    "    node_parser = HierarchicalNodeParser.from_defaults(chunk_sizes=chunk_sizes)\n",
    "    nodes = node_parser.get_nodes_from_documents(documents)\n",
    "    leaf_nodes = get_leaf_nodes(nodes)\n",
    "    merging_context = ServiceContext.from_defaults(\n",
    "        llm=llm,\n",
    "        embed_model=embed_model,\n",
    "    )\n",
    "    storage_context = StorageContext.from_defaults()\n",
    "    storage_context.docstore.add_documents(nodes)\n",
    "\n",
    "    if not os.path.exists(save_dir):\n",
    "        automerging_index = VectorStoreIndex(\n",
    "            leaf_nodes, storage_context=storage_context, service_context=merging_context\n",
    "        )\n",
    "        automerging_index.storage_context.persist(persist_dir=save_dir)\n",
    "    else:\n",
    "        automerging_index = load_index_from_storage(\n",
    "            StorageContext.from_defaults(persist_dir=save_dir),\n",
    "            service_context=merging_context,\n",
    "        )\n",
    "    return automerging_index\n",
    "\n",
    "\n",
    "def get_automerging_query_engine(\n",
    "    automerging_index,\n",
    "    similarity_top_k=12,\n",
    "    rerank_top_n=6,\n",
    "):\n",
    "    base_retriever = automerging_index.as_retriever(similarity_top_k=similarity_top_k)\n",
    "    retriever = AutoMergingRetriever(\n",
    "        base_retriever, automerging_index.storage_context, verbose=True\n",
    "    )\n",
    "    rerank = SentenceTransformerRerank(\n",
    "        top_n=rerank_top_n, model=\"BAAI/bge-reranker-base\"\n",
    "    )\n",
    "    auto_merging_engine = RetrieverQueryEngine.from_args(\n",
    "        retriever, node_postprocessors=[rerank]\n",
    "    )\n",
    "    return auto_merging_engine"
   ]
  },
  {
   "cell_type": "code",
   "execution_count": 6,
   "metadata": {},
   "outputs": [],
   "source": [
    "from llama_index import SimpleDirectoryReader\n",
    "\n",
    "documents = SimpleDirectoryReader(\n",
    "    input_files=[\"./document/chess.pdf\"] # 예시 pdf\n",
    ").load_data()"
   ]
  },
  {
   "cell_type": "code",
   "execution_count": 10,
   "metadata": {},
   "outputs": [
    {
     "name": "stdout",
     "output_type": "stream",
     "text": [
      "<class 'list'> \n",
      "\n",
      "8 \n",
      "\n",
      "<class 'llama_index.schema.Document'>\n",
      "Doc ID: 0888b928-3f67-4b62-8f33-6373751d1f4c\n",
      "Text:\n"
     ]
    }
   ],
   "source": [
    "print(type(documents), \"\\n\")\n",
    "print(len(documents), \"\\n\")\n",
    "print(type(documents[0]))\n",
    "print(documents[4])"
   ]
  },
  {
   "cell_type": "code",
   "execution_count": 11,
   "metadata": {},
   "outputs": [
    {
     "data": {
      "text/plain": [
       "[Document(id_='10f9328d-98a9-49ab-8a3f-2003101ddd73', embedding=None, metadata={'page_label': '1', 'file_name': 'chess.pdf', 'file_path': 'document\\\\chess.pdf', 'file_type': 'application/pdf', 'file_size': 3104682, 'creation_date': '2023-12-08', 'last_modified_date': '2023-12-08', 'last_accessed_date': '2023-12-10'}, excluded_embed_metadata_keys=['file_name', 'file_type', 'file_size', 'creation_date', 'last_modified_date', 'last_accessed_date'], excluded_llm_metadata_keys=['file_name', 'file_type', 'file_size', 'creation_date', 'last_modified_date', 'last_accessed_date'], relationships={}, hash='4b1ddaa2a3bf33f848531eb676164f93bcee035d3c3282649ee1ad0d50fa2af5', text='', start_char_idx=None, end_char_idx=None, text_template='{metadata_str}\\n\\n{content}', metadata_template='{key}: {value}', metadata_seperator='\\n'),\n",
       " Document(id_='dc9e8ce2-37a9-463a-b9e6-df40efba618f', embedding=None, metadata={'page_label': '2', 'file_name': 'chess.pdf', 'file_path': 'document\\\\chess.pdf', 'file_type': 'application/pdf', 'file_size': 3104682, 'creation_date': '2023-12-08', 'last_modified_date': '2023-12-08', 'last_accessed_date': '2023-12-10'}, excluded_embed_metadata_keys=['file_name', 'file_type', 'file_size', 'creation_date', 'last_modified_date', 'last_accessed_date'], excluded_llm_metadata_keys=['file_name', 'file_type', 'file_size', 'creation_date', 'last_modified_date', 'last_accessed_date'], relationships={}, hash='0bfb87c56014c9c336536febd4998dc8629d3617aff25312f5e8f295f2762c5e', text='', start_char_idx=None, end_char_idx=None, text_template='{metadata_str}\\n\\n{content}', metadata_template='{key}: {value}', metadata_seperator='\\n'),\n",
       " Document(id_='5c01b289-ca3c-4d88-85e5-c59963d3433c', embedding=None, metadata={'page_label': '3', 'file_name': 'chess.pdf', 'file_path': 'document\\\\chess.pdf', 'file_type': 'application/pdf', 'file_size': 3104682, 'creation_date': '2023-12-08', 'last_modified_date': '2023-12-08', 'last_accessed_date': '2023-12-10'}, excluded_embed_metadata_keys=['file_name', 'file_type', 'file_size', 'creation_date', 'last_modified_date', 'last_accessed_date'], excluded_llm_metadata_keys=['file_name', 'file_type', 'file_size', 'creation_date', 'last_modified_date', 'last_accessed_date'], relationships={}, hash='939cf252f7555c5392e37748c51bb4707dc549d67ff59633dc8463255ee09095', text='', start_char_idx=None, end_char_idx=None, text_template='{metadata_str}\\n\\n{content}', metadata_template='{key}: {value}', metadata_seperator='\\n'),\n",
       " Document(id_='d1cfce06-40ab-4385-aba8-579a71ea964e', embedding=None, metadata={'page_label': '4', 'file_name': 'chess.pdf', 'file_path': 'document\\\\chess.pdf', 'file_type': 'application/pdf', 'file_size': 3104682, 'creation_date': '2023-12-08', 'last_modified_date': '2023-12-08', 'last_accessed_date': '2023-12-10'}, excluded_embed_metadata_keys=['file_name', 'file_type', 'file_size', 'creation_date', 'last_modified_date', 'last_accessed_date'], excluded_llm_metadata_keys=['file_name', 'file_type', 'file_size', 'creation_date', 'last_modified_date', 'last_accessed_date'], relationships={}, hash='e462aafabc14de667867f7e35b932cef529cb1ac38324cb8049344ebb5f2144d', text='', start_char_idx=None, end_char_idx=None, text_template='{metadata_str}\\n\\n{content}', metadata_template='{key}: {value}', metadata_seperator='\\n'),\n",
       " Document(id_='0888b928-3f67-4b62-8f33-6373751d1f4c', embedding=None, metadata={'page_label': '5', 'file_name': 'chess.pdf', 'file_path': 'document\\\\chess.pdf', 'file_type': 'application/pdf', 'file_size': 3104682, 'creation_date': '2023-12-08', 'last_modified_date': '2023-12-08', 'last_accessed_date': '2023-12-10'}, excluded_embed_metadata_keys=['file_name', 'file_type', 'file_size', 'creation_date', 'last_modified_date', 'last_accessed_date'], excluded_llm_metadata_keys=['file_name', 'file_type', 'file_size', 'creation_date', 'last_modified_date', 'last_accessed_date'], relationships={}, hash='061ff786091a892a393116d758c698cb87f566f44e5e47fcfc07b1b8d7a72b93', text='', start_char_idx=None, end_char_idx=None, text_template='{metadata_str}\\n\\n{content}', metadata_template='{key}: {value}', metadata_seperator='\\n'),\n",
       " Document(id_='12f55ac9-5152-4f6c-a12f-2880fecbc9d2', embedding=None, metadata={'page_label': '6', 'file_name': 'chess.pdf', 'file_path': 'document\\\\chess.pdf', 'file_type': 'application/pdf', 'file_size': 3104682, 'creation_date': '2023-12-08', 'last_modified_date': '2023-12-08', 'last_accessed_date': '2023-12-10'}, excluded_embed_metadata_keys=['file_name', 'file_type', 'file_size', 'creation_date', 'last_modified_date', 'last_accessed_date'], excluded_llm_metadata_keys=['file_name', 'file_type', 'file_size', 'creation_date', 'last_modified_date', 'last_accessed_date'], relationships={}, hash='4792c0d2f63c9b1997c36ab67fb6eee0371aaefe80ce6d9f66a4ab4a6f01cc6e', text='', start_char_idx=None, end_char_idx=None, text_template='{metadata_str}\\n\\n{content}', metadata_template='{key}: {value}', metadata_seperator='\\n'),\n",
       " Document(id_='b4022294-86c6-4c76-80b0-7c5eec5766ab', embedding=None, metadata={'page_label': '7', 'file_name': 'chess.pdf', 'file_path': 'document\\\\chess.pdf', 'file_type': 'application/pdf', 'file_size': 3104682, 'creation_date': '2023-12-08', 'last_modified_date': '2023-12-08', 'last_accessed_date': '2023-12-10'}, excluded_embed_metadata_keys=['file_name', 'file_type', 'file_size', 'creation_date', 'last_modified_date', 'last_accessed_date'], excluded_llm_metadata_keys=['file_name', 'file_type', 'file_size', 'creation_date', 'last_modified_date', 'last_accessed_date'], relationships={}, hash='1b00f865b12f72d5fbc1cf12028b436f27e03050d3971ec9776a66a96852ab3d', text='', start_char_idx=None, end_char_idx=None, text_template='{metadata_str}\\n\\n{content}', metadata_template='{key}: {value}', metadata_seperator='\\n'),\n",
       " Document(id_='9682cd98-96c0-4e0c-9cfa-3028666c5229', embedding=None, metadata={'page_label': '8', 'file_name': 'chess.pdf', 'file_path': 'document\\\\chess.pdf', 'file_type': 'application/pdf', 'file_size': 3104682, 'creation_date': '2023-12-08', 'last_modified_date': '2023-12-08', 'last_accessed_date': '2023-12-10'}, excluded_embed_metadata_keys=['file_name', 'file_type', 'file_size', 'creation_date', 'last_modified_date', 'last_accessed_date'], excluded_llm_metadata_keys=['file_name', 'file_type', 'file_size', 'creation_date', 'last_modified_date', 'last_accessed_date'], relationships={}, hash='2b0ffe4e0c94cc856f2b3f0fc6092984e1dc1deb0af8562aeb1b9fe2c8ba7ede', text='', start_char_idx=None, end_char_idx=None, text_template='{metadata_str}\\n\\n{content}', metadata_template='{key}: {value}', metadata_seperator='\\n')]"
      ]
     },
     "execution_count": 11,
     "metadata": {},
     "output_type": "execute_result"
    }
   ],
   "source": [
    "documents"
   ]
  }
 ],
 "metadata": {
  "kernelspec": {
   "display_name": "rag",
   "language": "python",
   "name": "python3"
  },
  "language_info": {
   "codemirror_mode": {
    "name": "ipython",
    "version": 3
   },
   "file_extension": ".py",
   "mimetype": "text/x-python",
   "name": "python",
   "nbconvert_exporter": "python",
   "pygments_lexer": "ipython3",
   "version": "3.10.13"
  }
 },
 "nbformat": 4,
 "nbformat_minor": 2
}
