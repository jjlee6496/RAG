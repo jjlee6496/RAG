{
 "cells": [
  {
   "cell_type": "code",
   "execution_count": 1,
   "metadata": {},
   "outputs": [],
   "source": [
    "import openai\n",
    "import os\n",
    "from dotenv import load_dotenv\n",
    "from trulens_eval import Tru\n",
    "\n",
    "load_dotenv()\n",
    "openai.api_key = os.environ.get('OPENAI_API_KEY')"
   ]
  },
  {
   "cell_type": "code",
   "execution_count": 2,
   "metadata": {},
   "outputs": [],
   "source": [
    "from llama_index import SimpleDirectoryReader\n",
    "from llama_index import Document\n",
    "\n",
    "documents = SimpleDirectoryReader(\n",
    "    input_files=[\"./document/eBook-How-to-Build-a-Career-in-AI.pdf\"] # 예시 pdf, 출처:https://info.deeplearning.ai/how-to-build-a-career-in-ai-book\n",
    ").load_data()\n",
    "\n",
    "\n",
    "document = Document(text=\"\\n\\n\".join([doc.text for doc in documents]))"
   ]
  },
  {
   "cell_type": "markdown",
   "metadata": {},
   "source": [
    "# Window=1"
   ]
  },
  {
   "cell_type": "code",
   "execution_count": 4,
   "metadata": {},
   "outputs": [
    {
     "name": "stdout",
     "output_type": "stream",
     "text": [
      "✅ In Answer Relevance, input prompt will be set to __record__.main_input or `Select.RecordInput` .\n",
      "✅ In Answer Relevance, input response will be set to __record__.main_output or `Select.RecordOutput` .\n",
      "✅ In Context Relevance, input prompt will be set to __record__.main_input or `Select.RecordInput` .\n",
      "✅ In Context Relevance, input response will be set to __record__.app.query.rets.source_nodes[:].node.text .\n",
      "✅ In Groundedness, input source will be set to __record__.app.query.rets.source_nodes[:].node.text .\n",
      "✅ In Groundedness, input statement will be set to __record__.main_output or `Select.RecordOutput` .\n",
      "🦑 Tru initialized with db url sqlite:///default.sqlite .\n",
      "🛑 Secret keys may be written to the database. See the `database_redact_keys` option of `Tru` to prevent this.\n"
     ]
    }
   ],
   "source": [
    "from utils import get_trulens_recorder, run_evals, build_sentence_window_index, get_sentence_window_query_engine\n",
    "from llama_index.llms import OpenAI\n",
    "\n",
    "# 사전에 쓰여진 evaluation용 질문들\n",
    "eval_questions = []\n",
    "with open('generated_questions.text', 'r') as file:\n",
    "    for line in file:\n",
    "        # Remove newline character and convert to integer\n",
    "        item = line.strip()\n",
    "        eval_questions.append(item)\n",
    "        \n",
    "sentence_index_1 = build_sentence_window_index(\n",
    "    documents,\n",
    "    llm=OpenAI(model=\"gpt-3.5-turbo\", temperature=0.1),\n",
    "    embed_model=\"local:BAAI/bge-small-en-v1.5\",\n",
    "    sentence_window_size=1,\n",
    "    save_dir=\"./index/sentence_index_1\",\n",
    ")\n",
    "\n",
    "sentence_window_engine_1 = get_sentence_window_query_engine(\n",
    "    sentence_index_1\n",
    ")\n",
    "\n",
    "tru_recorder_1 = get_trulens_recorder(\n",
    "    sentence_window_engine_1,\n",
    "    app_id='sentence window engine 1'\n",
    ")\n",
    "\n",
    "run_evals(eval_questions, tru_recorder_1, sentence_window_engine_1)"
   ]
  },
  {
   "cell_type": "code",
   "execution_count": 5,
   "metadata": {},
   "outputs": [
    {
     "name": "stdout",
     "output_type": "stream",
     "text": [
      "Starting dashboard ...\n",
      "Config file already exists. Skipping writing process.\n",
      "Credentials file already exists. Skipping writing process.\n"
     ]
    },
    {
     "data": {
      "application/vnd.jupyter.widget-view+json": {
       "model_id": "a93c6d83333049299e4dc947942c1806",
       "version_major": 2,
       "version_minor": 0
      },
      "text/plain": [
       "Accordion(children=(VBox(children=(VBox(children=(Label(value='STDOUT'), Output())), VBox(children=(Label(valu…"
      ]
     },
     "metadata": {},
     "output_type": "display_data"
    },
    {
     "name": "stdout",
     "output_type": "stream",
     "text": [
      "Dashboard started at http://192.168.0.4:8501 .\n"
     ]
    },
    {
     "data": {
      "text/plain": [
       "<Popen: returncode: None args: ['streamlit', 'run', '--server.headless=True'...>"
      ]
     },
     "execution_count": 5,
     "metadata": {},
     "output_type": "execute_result"
    }
   ],
   "source": [
    "Tru().run_dashboard()"
   ]
  },
  {
   "cell_type": "code",
   "execution_count": 6,
   "metadata": {},
   "outputs": [
    {
     "data": {
      "text/plain": [
       "'To become an AI expert, one can start by developing machine learning systems in their spare time. This can eventually become part of their job, providing access to more equipment, compute time, labeling budget, or head count. Working on small-scale projects, either alone or with friends, is also beneficial. For example, re-implementing known algorithms, applying machine learning to hobbies, or building useful systems at work in spare time can help develop expertise. Additionally, encouraging and supporting others behind you in their AI journey can also contribute to becoming an AI expert.'"
      ]
     },
     "execution_count": 6,
     "metadata": {},
     "output_type": "execute_result"
    }
   ],
   "source": [
    "sentence_window_engine_1.query('how to become AI expert').response"
   ]
  },
  {
   "cell_type": "code",
   "execution_count": 7,
   "metadata": {},
   "outputs": [
    {
     "data": {
      "text/plain": [
       "'You could consider implementing a machine learning algorithm to predict power generation from intermittent sources. This project could involve using satellite imagery to map the locations of wind turbines more accurately, estimating the height and generation capacity of wind turbines using satellite imagery, or using weather data to better predict cloud cover and solar irradiance.'"
      ]
     },
     "execution_count": 7,
     "metadata": {},
     "output_type": "execute_result"
    }
   ],
   "source": [
    "sentence_window_engine_1.query('Recommnd me an AI project').response"
   ]
  },
  {
   "cell_type": "markdown",
   "metadata": {},
   "source": [
    "# Window=3"
   ]
  },
  {
   "cell_type": "code",
   "execution_count": 8,
   "metadata": {},
   "outputs": [
    {
     "name": "stdout",
     "output_type": "stream",
     "text": [
      "✅ In Answer Relevance, input prompt will be set to __record__.main_input or `Select.RecordInput` .\n",
      "✅ In Answer Relevance, input response will be set to __record__.main_output or `Select.RecordOutput` .\n",
      "✅ In Context Relevance, input prompt will be set to __record__.main_input or `Select.RecordInput` .\n",
      "✅ In Context Relevance, input response will be set to __record__.app.query.rets.source_nodes[:].node.text .\n",
      "✅ In Groundedness, input source will be set to __record__.app.query.rets.source_nodes[:].node.text .\n",
      "✅ In Groundedness, input statement will be set to __record__.main_output or `Select.RecordOutput` .\n",
      "Starting dashboard ...\n",
      "Config file already exists. Skipping writing process.\n",
      "Credentials file already exists. Skipping writing process.\n",
      "Dashboard already running at path:   Network URL: http://192.168.0.4:8501\n",
      "\n"
     ]
    },
    {
     "data": {
      "text/plain": [
       "<Popen: returncode: None args: ['streamlit', 'run', '--server.headless=True'...>"
      ]
     },
     "execution_count": 8,
     "metadata": {},
     "output_type": "execute_result"
    }
   ],
   "source": [
    "sentence_index_3 = build_sentence_window_index(\n",
    "    documents,\n",
    "    llm=OpenAI(model=\"gpt-3.5-turbo\", temperature=0.1),\n",
    "    embed_model=\"local:BAAI/bge-small-en-v1.5\",\n",
    "    sentence_window_size=3,\n",
    "    save_dir=\"./index/sentence_index_3\",\n",
    ")\n",
    "\n",
    "sentence_window_engine_3 = get_sentence_window_query_engine(\n",
    "    sentence_index_3\n",
    ")\n",
    "\n",
    "tru_recorder_3 = get_trulens_recorder(\n",
    "    sentence_window_engine_3,\n",
    "    app_id='sentence window engine 3'\n",
    ")\n",
    "\n",
    "run_evals(eval_questions, tru_recorder_3, sentence_window_engine_3)\n",
    "Tru().run_dashboard()"
   ]
  },
  {
   "cell_type": "code",
   "execution_count": 9,
   "metadata": {},
   "outputs": [
    {
     "name": "stdout",
     "output_type": "stream",
     "text": [
      "✅ In Answer Relevance, input prompt will be set to __record__.main_input or `Select.RecordInput` .\n",
      "✅ In Answer Relevance, input response will be set to __record__.main_output or `Select.RecordOutput` .\n",
      "✅ In Context Relevance, input prompt will be set to __record__.main_input or `Select.RecordInput` .\n",
      "✅ In Context Relevance, input response will be set to __record__.app.query.rets.source_nodes[:].node.text .\n",
      "✅ In Groundedness, input source will be set to __record__.app.query.rets.source_nodes[:].node.text .\n",
      "✅ In Groundedness, input statement will be set to __record__.main_output or `Select.RecordOutput` .\n"
     ]
    },
    {
     "name": "stderr",
     "output_type": "stream",
     "text": [
      "A new object of type <class 'llama_index.query_engine.retriever_query_engine.RetrieverQueryEngine'> at 0x25423430940 is calling an instrumented method <function BaseQueryEngine.query at 0x00000253DCFC1AB0>. The path of this call may be incorrect.\n",
      "Guessing path of new object is app based on other object (0x2542329fc10) using this function.\n",
      "A new object of type <class 'llama_index.query_engine.retriever_query_engine.RetrieverQueryEngine'> at 0x25423430940 is calling an instrumented method <function RetrieverQueryEngine.retrieve at 0x00000253E29F8CA0>. The path of this call may be incorrect.\n",
      "Guessing path of new object is app based on other object (0x2542329fc10) using this function.\n",
      "A new object of type <class 'llama_index.indices.vector_store.retrievers.retriever.VectorIndexRetriever'> at 0x25423432c80 is calling an instrumented method <function BaseRetriever.retrieve at 0x00000253DCFC0D30>. The path of this call may be incorrect.\n",
      "Guessing path of new object is app.retriever based on other object (0x2553e7710c0) using this function.\n",
      "A new object of type <class 'llama_index.response_synthesizers.compact_and_refine.CompactAndRefine'> at 0x25423430a60 is calling an instrumented method <function CompactAndRefine.get_response at 0x00000253DD44A5F0>. The path of this call may be incorrect.\n",
      "Guessing path of new object is app._response_synthesizer based on other object (0x2542329c460) using this function.\n",
      "A new object of type <class 'llama_index.response_synthesizers.compact_and_refine.CompactAndRefine'> at 0x25423430a60 is calling an instrumented method <function Refine.get_response at 0x00000253DE5A5120>. The path of this call may be incorrect.\n",
      "Guessing path of new object is app._response_synthesizer based on other object (0x2542329c460) using this function.\n",
      "A new object of type <class 'llama_index.llm_predictor.base.LLMPredictor'> at 0x254232bfa00 is calling an instrumented method <function LLMPredictor.predict at 0x00000253DB0E3F40>. The path of this call may be incorrect.\n",
      "Guessing path of new object is app._response_synthesizer.service_context.llm_predictor based on other object (0x25423334a00) using this function.\n",
      "A new object of type <class 'llama_index.query_engine.retriever_query_engine.RetrieverQueryEngine'> at 0x25423430940 is calling an instrumented method <function RetrieverQueryEngine.retrieve at 0x00000253E29F8CA0>. The path of this call may be incorrect.\n",
      "Guessing path of new object is app based on other object (0x2542329fc10) using this function.\n",
      "A new object of type <class 'llama_index.response_synthesizers.compact_and_refine.CompactAndRefine'> at 0x25423430a60 is calling an instrumented method <function Refine.get_response at 0x00000253DE5A5120>. The path of this call may be incorrect.\n",
      "Guessing path of new object is app._response_synthesizer based on other object (0x2542329c460) using this function.\n",
      "A new object of type <class 'llama_index.query_engine.retriever_query_engine.RetrieverQueryEngine'> at 0x25423430940 is calling an instrumented method <function RetrieverQueryEngine.retrieve at 0x00000253E29F8CA0>. The path of this call may be incorrect.\n",
      "Guessing path of new object is app based on other object (0x2542329fc10) using this function.\n",
      "A new object of type <class 'llama_index.response_synthesizers.compact_and_refine.CompactAndRefine'> at 0x25423430a60 is calling an instrumented method <function Refine.get_response at 0x00000253DE5A5120>. The path of this call may be incorrect.\n",
      "Guessing path of new object is app._response_synthesizer based on other object (0x2542329c460) using this function.\n",
      "A new object of type <class 'llama_index.query_engine.retriever_query_engine.RetrieverQueryEngine'> at 0x25423430940 is calling an instrumented method <function RetrieverQueryEngine.retrieve at 0x00000253E29F8CA0>. The path of this call may be incorrect.\n",
      "Guessing path of new object is app based on other object (0x2542329fc10) using this function.\n",
      "A new object of type <class 'llama_index.response_synthesizers.compact_and_refine.CompactAndRefine'> at 0x25423430a60 is calling an instrumented method <function Refine.get_response at 0x00000253DE5A5120>. The path of this call may be incorrect.\n",
      "Guessing path of new object is app._response_synthesizer based on other object (0x2542329c460) using this function.\n",
      "A new object of type <class 'llama_index.query_engine.retriever_query_engine.RetrieverQueryEngine'> at 0x25423430940 is calling an instrumented method <function RetrieverQueryEngine.retrieve at 0x00000253E29F8CA0>. The path of this call may be incorrect.\n",
      "Guessing path of new object is app based on other object (0x2542329fc10) using this function.\n",
      "A new object of type <class 'llama_index.response_synthesizers.compact_and_refine.CompactAndRefine'> at 0x25423430a60 is calling an instrumented method <function Refine.get_response at 0x00000253DE5A5120>. The path of this call may be incorrect.\n",
      "Guessing path of new object is app._response_synthesizer based on other object (0x2542329c460) using this function.\n",
      "A new object of type <class 'llama_index.query_engine.retriever_query_engine.RetrieverQueryEngine'> at 0x25423430940 is calling an instrumented method <function RetrieverQueryEngine.retrieve at 0x00000253E29F8CA0>. The path of this call may be incorrect.\n",
      "Guessing path of new object is app based on other object (0x2542329fc10) using this function.\n",
      "A new object of type <class 'llama_index.response_synthesizers.compact_and_refine.CompactAndRefine'> at 0x25423430a60 is calling an instrumented method <function Refine.get_response at 0x00000253DE5A5120>. The path of this call may be incorrect.\n",
      "Guessing path of new object is app._response_synthesizer based on other object (0x2542329c460) using this function.\n",
      "A new object of type <class 'llama_index.query_engine.retriever_query_engine.RetrieverQueryEngine'> at 0x25423430940 is calling an instrumented method <function RetrieverQueryEngine.retrieve at 0x00000253E29F8CA0>. The path of this call may be incorrect.\n",
      "Guessing path of new object is app based on other object (0x2542329fc10) using this function.\n",
      "A new object of type <class 'llama_index.response_synthesizers.compact_and_refine.CompactAndRefine'> at 0x25423430a60 is calling an instrumented method <function Refine.get_response at 0x00000253DE5A5120>. The path of this call may be incorrect.\n",
      "Guessing path of new object is app._response_synthesizer based on other object (0x2542329c460) using this function.\n",
      "A new object of type <class 'llama_index.query_engine.retriever_query_engine.RetrieverQueryEngine'> at 0x25423430940 is calling an instrumented method <function RetrieverQueryEngine.retrieve at 0x00000253E29F8CA0>. The path of this call may be incorrect.\n",
      "Guessing path of new object is app based on other object (0x2542329fc10) using this function.\n",
      "A new object of type <class 'llama_index.response_synthesizers.compact_and_refine.CompactAndRefine'> at 0x25423430a60 is calling an instrumented method <function Refine.get_response at 0x00000253DE5A5120>. The path of this call may be incorrect.\n",
      "Guessing path of new object is app._response_synthesizer based on other object (0x2542329c460) using this function.\n",
      "A new object of type <class 'llama_index.query_engine.retriever_query_engine.RetrieverQueryEngine'> at 0x25423430940 is calling an instrumented method <function RetrieverQueryEngine.retrieve at 0x00000253E29F8CA0>. The path of this call may be incorrect.\n",
      "Guessing path of new object is app based on other object (0x2542329fc10) using this function.\n",
      "A new object of type <class 'llama_index.response_synthesizers.compact_and_refine.CompactAndRefine'> at 0x25423430a60 is calling an instrumented method <function Refine.get_response at 0x00000253DE5A5120>. The path of this call may be incorrect.\n",
      "Guessing path of new object is app._response_synthesizer based on other object (0x2542329c460) using this function.\n",
      "A new object of type <class 'llama_index.query_engine.retriever_query_engine.RetrieverQueryEngine'> at 0x25423430940 is calling an instrumented method <function RetrieverQueryEngine.retrieve at 0x00000253E29F8CA0>. The path of this call may be incorrect.\n",
      "Guessing path of new object is app based on other object (0x2542329fc10) using this function.\n",
      "A new object of type <class 'llama_index.response_synthesizers.compact_and_refine.CompactAndRefine'> at 0x25423430a60 is calling an instrumented method <function Refine.get_response at 0x00000253DE5A5120>. The path of this call may be incorrect.\n",
      "Guessing path of new object is app._response_synthesizer based on other object (0x2542329c460) using this function.\n",
      "A new object of type <class 'llama_index.query_engine.retriever_query_engine.RetrieverQueryEngine'> at 0x25423430940 is calling an instrumented method <function RetrieverQueryEngine.retrieve at 0x00000253E29F8CA0>. The path of this call may be incorrect.\n",
      "Guessing path of new object is app based on other object (0x2542329fc10) using this function.\n",
      "A new object of type <class 'llama_index.response_synthesizers.compact_and_refine.CompactAndRefine'> at 0x25423430a60 is calling an instrumented method <function Refine.get_response at 0x00000253DE5A5120>. The path of this call may be incorrect.\n",
      "Guessing path of new object is app._response_synthesizer based on other object (0x2542329c460) using this function.\n",
      "A new object of type <class 'llama_index.query_engine.retriever_query_engine.RetrieverQueryEngine'> at 0x25423430940 is calling an instrumented method <function RetrieverQueryEngine.retrieve at 0x00000253E29F8CA0>. The path of this call may be incorrect.\n",
      "Guessing path of new object is app based on other object (0x2542329fc10) using this function.\n",
      "A new object of type <class 'llama_index.response_synthesizers.compact_and_refine.CompactAndRefine'> at 0x25423430a60 is calling an instrumented method <function Refine.get_response at 0x00000253DE5A5120>. The path of this call may be incorrect.\n",
      "Guessing path of new object is app._response_synthesizer based on other object (0x2542329c460) using this function.\n",
      "A new object of type <class 'llama_index.query_engine.retriever_query_engine.RetrieverQueryEngine'> at 0x25423430940 is calling an instrumented method <function RetrieverQueryEngine.retrieve at 0x00000253E29F8CA0>. The path of this call may be incorrect.\n",
      "Guessing path of new object is app based on other object (0x2542329fc10) using this function.\n",
      "A new object of type <class 'llama_index.response_synthesizers.compact_and_refine.CompactAndRefine'> at 0x25423430a60 is calling an instrumented method <function Refine.get_response at 0x00000253DE5A5120>. The path of this call may be incorrect.\n",
      "Guessing path of new object is app._response_synthesizer based on other object (0x2542329c460) using this function.\n",
      "A new object of type <class 'llama_index.query_engine.retriever_query_engine.RetrieverQueryEngine'> at 0x25423430940 is calling an instrumented method <function RetrieverQueryEngine.retrieve at 0x00000253E29F8CA0>. The path of this call may be incorrect.\n",
      "Guessing path of new object is app based on other object (0x2542329fc10) using this function.\n",
      "A new object of type <class 'llama_index.response_synthesizers.compact_and_refine.CompactAndRefine'> at 0x25423430a60 is calling an instrumented method <function Refine.get_response at 0x00000253DE5A5120>. The path of this call may be incorrect.\n",
      "Guessing path of new object is app._response_synthesizer based on other object (0x2542329c460) using this function.\n",
      "A new object of type <class 'llama_index.query_engine.retriever_query_engine.RetrieverQueryEngine'> at 0x25423430940 is calling an instrumented method <function RetrieverQueryEngine.retrieve at 0x00000253E29F8CA0>. The path of this call may be incorrect.\n",
      "Guessing path of new object is app based on other object (0x2542329fc10) using this function.\n",
      "A new object of type <class 'llama_index.response_synthesizers.compact_and_refine.CompactAndRefine'> at 0x25423430a60 is calling an instrumented method <function Refine.get_response at 0x00000253DE5A5120>. The path of this call may be incorrect.\n",
      "Guessing path of new object is app._response_synthesizer based on other object (0x2542329c460) using this function.\n",
      "A new object of type <class 'llama_index.query_engine.retriever_query_engine.RetrieverQueryEngine'> at 0x25423430940 is calling an instrumented method <function RetrieverQueryEngine.retrieve at 0x00000253E29F8CA0>. The path of this call may be incorrect.\n",
      "Guessing path of new object is app based on other object (0x2542329fc10) using this function.\n",
      "A new object of type <class 'llama_index.response_synthesizers.compact_and_refine.CompactAndRefine'> at 0x25423430a60 is calling an instrumented method <function Refine.get_response at 0x00000253DE5A5120>. The path of this call may be incorrect.\n",
      "Guessing path of new object is app._response_synthesizer based on other object (0x2542329c460) using this function.\n",
      "A new object of type <class 'llama_index.query_engine.retriever_query_engine.RetrieverQueryEngine'> at 0x25423430940 is calling an instrumented method <function RetrieverQueryEngine.retrieve at 0x00000253E29F8CA0>. The path of this call may be incorrect.\n",
      "Guessing path of new object is app based on other object (0x2542329fc10) using this function.\n",
      "A new object of type <class 'llama_index.response_synthesizers.compact_and_refine.CompactAndRefine'> at 0x25423430a60 is calling an instrumented method <function Refine.get_response at 0x00000253DE5A5120>. The path of this call may be incorrect.\n",
      "Guessing path of new object is app._response_synthesizer based on other object (0x2542329c460) using this function.\n",
      "A new object of type <class 'llama_index.query_engine.retriever_query_engine.RetrieverQueryEngine'> at 0x25423430940 is calling an instrumented method <function RetrieverQueryEngine.retrieve at 0x00000253E29F8CA0>. The path of this call may be incorrect.\n",
      "Guessing path of new object is app based on other object (0x2542329fc10) using this function.\n",
      "A new object of type <class 'llama_index.response_synthesizers.compact_and_refine.CompactAndRefine'> at 0x25423430a60 is calling an instrumented method <function Refine.get_response at 0x00000253DE5A5120>. The path of this call may be incorrect.\n",
      "Guessing path of new object is app._response_synthesizer based on other object (0x2542329c460) using this function.\n",
      "A new object of type <class 'llama_index.query_engine.retriever_query_engine.RetrieverQueryEngine'> at 0x25423430940 is calling an instrumented method <function RetrieverQueryEngine.retrieve at 0x00000253E29F8CA0>. The path of this call may be incorrect.\n",
      "Guessing path of new object is app based on other object (0x2542329fc10) using this function.\n",
      "A new object of type <class 'llama_index.response_synthesizers.compact_and_refine.CompactAndRefine'> at 0x25423430a60 is calling an instrumented method <function Refine.get_response at 0x00000253DE5A5120>. The path of this call may be incorrect.\n",
      "Guessing path of new object is app._response_synthesizer based on other object (0x2542329c460) using this function.\n",
      "A new object of type <class 'llama_index.query_engine.retriever_query_engine.RetrieverQueryEngine'> at 0x25423430940 is calling an instrumented method <function RetrieverQueryEngine.retrieve at 0x00000253E29F8CA0>. The path of this call may be incorrect.\n",
      "Guessing path of new object is app based on other object (0x2542329fc10) using this function.\n",
      "A new object of type <class 'llama_index.response_synthesizers.compact_and_refine.CompactAndRefine'> at 0x25423430a60 is calling an instrumented method <function Refine.get_response at 0x00000253DE5A5120>. The path of this call may be incorrect.\n",
      "Guessing path of new object is app._response_synthesizer based on other object (0x2542329c460) using this function.\n",
      "A new object of type <class 'llama_index.query_engine.retriever_query_engine.RetrieverQueryEngine'> at 0x25423430940 is calling an instrumented method <function RetrieverQueryEngine.retrieve at 0x00000253E29F8CA0>. The path of this call may be incorrect.\n",
      "Guessing path of new object is app based on other object (0x2542329fc10) using this function.\n",
      "A new object of type <class 'llama_index.response_synthesizers.compact_and_refine.CompactAndRefine'> at 0x25423430a60 is calling an instrumented method <function Refine.get_response at 0x00000253DE5A5120>. The path of this call may be incorrect.\n",
      "Guessing path of new object is app._response_synthesizer based on other object (0x2542329c460) using this function.\n",
      "A new object of type <class 'llama_index.query_engine.retriever_query_engine.RetrieverQueryEngine'> at 0x25423430940 is calling an instrumented method <function RetrieverQueryEngine.retrieve at 0x00000253E29F8CA0>. The path of this call may be incorrect.\n",
      "Guessing path of new object is app based on other object (0x2542329fc10) using this function.\n",
      "A new object of type <class 'llama_index.response_synthesizers.compact_and_refine.CompactAndRefine'> at 0x25423430a60 is calling an instrumented method <function Refine.get_response at 0x00000253DE5A5120>. The path of this call may be incorrect.\n",
      "Guessing path of new object is app._response_synthesizer based on other object (0x2542329c460) using this function.\n",
      "A new object of type <class 'llama_index.query_engine.retriever_query_engine.RetrieverQueryEngine'> at 0x25423430940 is calling an instrumented method <function RetrieverQueryEngine.retrieve at 0x00000253E29F8CA0>. The path of this call may be incorrect.\n",
      "Guessing path of new object is app based on other object (0x2542329fc10) using this function.\n",
      "A new object of type <class 'llama_index.response_synthesizers.compact_and_refine.CompactAndRefine'> at 0x25423430a60 is calling an instrumented method <function Refine.get_response at 0x00000253DE5A5120>. The path of this call may be incorrect.\n",
      "Guessing path of new object is app._response_synthesizer based on other object (0x2542329c460) using this function.\n",
      "A new object of type <class 'llama_index.query_engine.retriever_query_engine.RetrieverQueryEngine'> at 0x25423430940 is calling an instrumented method <function RetrieverQueryEngine.retrieve at 0x00000253E29F8CA0>. The path of this call may be incorrect.\n",
      "Guessing path of new object is app based on other object (0x2542329fc10) using this function.\n",
      "A new object of type <class 'llama_index.response_synthesizers.compact_and_refine.CompactAndRefine'> at 0x25423430a60 is calling an instrumented method <function Refine.get_response at 0x00000253DE5A5120>. The path of this call may be incorrect.\n",
      "Guessing path of new object is app._response_synthesizer based on other object (0x2542329c460) using this function.\n"
     ]
    },
    {
     "name": "stdout",
     "output_type": "stream",
     "text": [
      "Starting dashboard ...\n",
      "Config file already exists. Skipping writing process.\n",
      "Credentials file already exists. Skipping writing process.\n",
      "Dashboard already running at path:   Network URL: http://192.168.0.4:8501\n",
      "\n"
     ]
    },
    {
     "data": {
      "text/plain": [
       "<Popen: returncode: None args: ['streamlit', 'run', '--server.headless=True'...>"
      ]
     },
     "execution_count": 9,
     "metadata": {},
     "output_type": "execute_result"
    }
   ],
   "source": [
    "sentence_index_5 = build_sentence_window_index(\n",
    "    documents,\n",
    "    llm=OpenAI(model=\"gpt-3.5-turbo\", temperature=0.1),\n",
    "    embed_model=\"local:BAAI/bge-small-en-v1.5\",\n",
    "    sentence_window_size=5,\n",
    "    save_dir=\"./index/sentence_index_5\",\n",
    ")\n",
    "\n",
    "sentence_window_engine_5 = get_sentence_window_query_engine(\n",
    "    sentence_index_5\n",
    ")\n",
    "\n",
    "tru_recorder_5 = get_trulens_recorder(\n",
    "    sentence_window_engine_5,\n",
    "    app_id='sentence window engine 5'\n",
    ")\n",
    "\n",
    "run_evals(eval_questions, tru_recorder_5, sentence_window_engine_5)\n",
    "Tru().run_dashboard()"
   ]
  }
 ],
 "metadata": {
  "kernelspec": {
   "display_name": "rag",
   "language": "python",
   "name": "python3"
  },
  "language_info": {
   "codemirror_mode": {
    "name": "ipython",
    "version": 3
   },
   "file_extension": ".py",
   "mimetype": "text/x-python",
   "name": "python",
   "nbconvert_exporter": "python",
   "pygments_lexer": "ipython3",
   "version": "3.10.13"
  }
 },
 "nbformat": 4,
 "nbformat_minor": 2
}
