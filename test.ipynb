{
 "cells": [
  {
   "cell_type": "code",
   "execution_count": 20,
   "metadata": {},
   "outputs": [],
   "source": [
    "import openai\n",
    "import os\n",
    "from dotenv import load_dotenv\n",
    "from trulens_eval import Tru\n",
    "\n",
    "load_dotenv()\n",
    "openai.api_key = os.environ.get('OPENAI_API_KEY')"
   ]
  },
  {
   "cell_type": "code",
   "execution_count": 21,
   "metadata": {},
   "outputs": [],
   "source": [
    "from llama_index import SimpleDirectoryReader\n",
    "from llama_index import Document\n",
    "\n",
    "documents = SimpleDirectoryReader(\n",
    "    input_files=[\"./document/eBook-How-to-Build-a-Career-in-AI.pdf\"] # 예시 pdf, 출처:https://info.deeplearning.ai/how-to-build-a-career-in-ai-book\n",
    ").load_data()\n",
    "\n",
    "document = Document(text=\"\\n\\n\".join([doc.text for doc in documents]))\n",
    "\n",
    "# 사전에 쓰여진 evaluation용 질문들, 비용 절감을 위해 5개의 질문에 대해서만 평가\n",
    "eval_questions = []\n",
    "# with open('generated_questions.text', 'r') as file:\n",
    "with open('test.text', 'r') as file:\n",
    "    for line in file:\n",
    "        # Remove newline character and convert to integer\n",
    "        item = line.strip()\n",
    "        eval_questions.append(item)\n",
    "        \n",
    "Tru().reset_database()"
   ]
  },
  {
   "cell_type": "markdown",
   "metadata": {},
   "source": [
    "# Basic RAG"
   ]
  },
  {
   "cell_type": "code",
   "execution_count": 22,
   "metadata": {},
   "outputs": [
    {
     "name": "stdout",
     "output_type": "stream",
     "text": [
      "✅ In Answer Relevance, input prompt will be set to __record__.main_input or `Select.RecordInput` .\n",
      "✅ In Answer Relevance, input response will be set to __record__.main_output or `Select.RecordOutput` .\n",
      "✅ In Context Relevance, input prompt will be set to __record__.main_input or `Select.RecordInput` .\n",
      "✅ In Context Relevance, input response will be set to __record__.app.query.rets.source_nodes[:].node.text .\n",
      "✅ In Groundedness, input source will be set to __record__.app.query.rets.source_nodes[:].node.text .\n",
      "✅ In Groundedness, input statement will be set to __record__.main_output or `Select.RecordOutput` .\n"
     ]
    },
    {
     "name": "stderr",
     "output_type": "stream",
     "text": [
      "A new object of type <class 'llama_index.query_engine.retriever_query_engine.RetrieverQueryEngine'> at 0x24c307e7a90 is calling an instrumented method <function BaseQueryEngine.query at 0x0000024A85BD49D0>. The path of this call may be incorrect.\n",
      "Guessing path of new object is app based on other object (0x24deb949b10) using this function.\n",
      "A new object of type <class 'llama_index.query_engine.retriever_query_engine.RetrieverQueryEngine'> at 0x24c307e7a90 is calling an instrumented method <function RetrieverQueryEngine.retrieve at 0x0000024A8B7E0EE0>. The path of this call may be incorrect.\n",
      "Guessing path of new object is app based on other object (0x24deb949b10) using this function.\n",
      "A new object of type <class 'llama_index.indices.vector_store.retrievers.retriever.VectorIndexRetriever'> at 0x24c307e7970 is calling an instrumented method <function BaseRetriever.retrieve at 0x0000024A85BAFBE0>. The path of this call may be incorrect.\n",
      "Guessing path of new object is app.retriever based on other object (0x24de85c26b0) using this function.\n",
      "A new object of type <class 'llama_index.response_synthesizers.compact_and_refine.CompactAndRefine'> at 0x24c307e7700 is calling an instrumented method <function CompactAndRefine.get_response at 0x0000024A86039510>. The path of this call may be incorrect.\n",
      "Guessing path of new object is app._response_synthesizer based on other object (0x24deb94a020) using this function.\n",
      "A new object of type <class 'llama_index.response_synthesizers.compact_and_refine.CompactAndRefine'> at 0x24c307e7700 is calling an instrumented method <function Refine.get_response at 0x0000024A871B4040>. The path of this call may be incorrect.\n",
      "Guessing path of new object is app._response_synthesizer based on other object (0x24deb94a020) using this function.\n",
      "A new object of type <class 'llama_index.llm_predictor.base.LLMPredictor'> at 0x24cf5259780 is calling an instrumented method <function LLMPredictor.predict at 0x0000024AFF222E60>. The path of this call may be incorrect.\n",
      "Guessing path of new object is app._response_synthesizer.service_context.llm_predictor based on other object (0x24de5d0d5c0) using this function.\n",
      "A new object of type <class 'llama_index.query_engine.retriever_query_engine.RetrieverQueryEngine'> at 0x24c307e7a90 is calling an instrumented method <function RetrieverQueryEngine.retrieve at 0x0000024A8B7E0EE0>. The path of this call may be incorrect.\n",
      "Guessing path of new object is app based on other object (0x24deb949b10) using this function.\n",
      "A new object of type <class 'llama_index.response_synthesizers.compact_and_refine.CompactAndRefine'> at 0x24c307e7700 is calling an instrumented method <function Refine.get_response at 0x0000024A871B4040>. The path of this call may be incorrect.\n",
      "Guessing path of new object is app._response_synthesizer based on other object (0x24deb94a020) using this function.\n",
      "A new object of type <class 'llama_index.query_engine.retriever_query_engine.RetrieverQueryEngine'> at 0x24c307e7a90 is calling an instrumented method <function RetrieverQueryEngine.retrieve at 0x0000024A8B7E0EE0>. The path of this call may be incorrect.\n",
      "Guessing path of new object is app based on other object (0x24deb949b10) using this function.\n",
      "A new object of type <class 'llama_index.response_synthesizers.compact_and_refine.CompactAndRefine'> at 0x24c307e7700 is calling an instrumented method <function Refine.get_response at 0x0000024A871B4040>. The path of this call may be incorrect.\n",
      "Guessing path of new object is app._response_synthesizer based on other object (0x24deb94a020) using this function.\n",
      "A new object of type <class 'llama_index.query_engine.retriever_query_engine.RetrieverQueryEngine'> at 0x24c307e7a90 is calling an instrumented method <function RetrieverQueryEngine.retrieve at 0x0000024A8B7E0EE0>. The path of this call may be incorrect.\n",
      "Guessing path of new object is app based on other object (0x24deb949b10) using this function.\n",
      "A new object of type <class 'llama_index.response_synthesizers.compact_and_refine.CompactAndRefine'> at 0x24c307e7700 is calling an instrumented method <function Refine.get_response at 0x0000024A871B4040>. The path of this call may be incorrect.\n",
      "Guessing path of new object is app._response_synthesizer based on other object (0x24deb94a020) using this function.\n",
      "A new object of type <class 'llama_index.query_engine.retriever_query_engine.RetrieverQueryEngine'> at 0x24c307e7a90 is calling an instrumented method <function RetrieverQueryEngine.retrieve at 0x0000024A8B7E0EE0>. The path of this call may be incorrect.\n",
      "Guessing path of new object is app based on other object (0x24deb949b10) using this function.\n",
      "A new object of type <class 'llama_index.response_synthesizers.compact_and_refine.CompactAndRefine'> at 0x24c307e7700 is calling an instrumented method <function Refine.get_response at 0x0000024A871B4040>. The path of this call may be incorrect.\n",
      "Guessing path of new object is app._response_synthesizer based on other object (0x24deb94a020) using this function.\n"
     ]
    },
    {
     "name": "stdout",
     "output_type": "stream",
     "text": [
      "Starting dashboard ...\n",
      "Config file already exists. Skipping writing process.\n",
      "Credentials file already exists. Skipping writing process.\n",
      "Dashboard already running at path:   Network URL: http://192.168.0.4:8501\n",
      "\n"
     ]
    },
    {
     "data": {
      "text/plain": [
       "<Popen: returncode: None args: ['streamlit', 'run', '--server.headless=True'...>"
      ]
     },
     "execution_count": 22,
     "metadata": {},
     "output_type": "execute_result"
    }
   ],
   "source": [
    "from utils import get_trulens_recorder, run_evals, build_basic_rag_index, get_basic_rag_query_engine\n",
    "from llama_index.llms import OpenAI\n",
    "\n",
    "\n",
    "basic_index_1 = build_basic_rag_index(\n",
    "    documents,\n",
    "    llm=OpenAI(model=\"gpt-3.5-turbo\", temperature=0.1),\n",
    "    embed_model=\"local:BAAI/bge-small-en-v1.5\",\n",
    "    save_dir=\"./index/basic_index\",\n",
    ")\n",
    "\n",
    "basic_rag_engine = get_basic_rag_query_engine(\n",
    "    basic_index_1\n",
    ")\n",
    "\n",
    "basic_recorder= get_trulens_recorder(\n",
    "    basic_rag_engine,\n",
    "    app_id='Basic RAG engine'\n",
    ")\n",
    "\n",
    "run_evals(eval_questions, basic_recorder, basic_rag_engine)\n",
    "Tru().run_dashboard()"
   ]
  },
  {
   "cell_type": "markdown",
   "metadata": {},
   "source": [
    "# Sentence-window Retrieval"
   ]
  },
  {
   "cell_type": "markdown",
   "metadata": {},
   "source": [
    "## Window=1"
   ]
  },
  {
   "cell_type": "code",
   "execution_count": 23,
   "metadata": {},
   "outputs": [
    {
     "name": "stdout",
     "output_type": "stream",
     "text": [
      "✅ In Answer Relevance, input prompt will be set to __record__.main_input or `Select.RecordInput` .\n",
      "✅ In Answer Relevance, input response will be set to __record__.main_output or `Select.RecordOutput` .\n",
      "✅ In Context Relevance, input prompt will be set to __record__.main_input or `Select.RecordInput` .\n",
      "✅ In Context Relevance, input response will be set to __record__.app.query.rets.source_nodes[:].node.text .\n",
      "✅ In Groundedness, input source will be set to __record__.app.query.rets.source_nodes[:].node.text .\n",
      "✅ In Groundedness, input statement will be set to __record__.main_output or `Select.RecordOutput` .\n"
     ]
    },
    {
     "name": "stderr",
     "output_type": "stream",
     "text": [
      "A new object of type <class 'llama_index.query_engine.retriever_query_engine.RetrieverQueryEngine'> at 0x24c077892a0 is calling an instrumented method <function BaseQueryEngine.query at 0x0000024A85BD49D0>. The path of this call may be incorrect.\n",
      "Guessing path of new object is app based on other object (0x24deb949b10) using this function.\n",
      "A new object of type <class 'llama_index.query_engine.retriever_query_engine.RetrieverQueryEngine'> at 0x24c077892a0 is calling an instrumented method <function RetrieverQueryEngine.retrieve at 0x0000024A8B7E0EE0>. The path of this call may be incorrect.\n",
      "Guessing path of new object is app based on other object (0x24deb949b10) using this function.\n",
      "A new object of type <class 'llama_index.indices.vector_store.retrievers.retriever.VectorIndexRetriever'> at 0x24deba2aaa0 is calling an instrumented method <function BaseRetriever.retrieve at 0x0000024A85BAFBE0>. The path of this call may be incorrect.\n",
      "Guessing path of new object is app.retriever based on other object (0x24de85c26b0) using this function.\n",
      "A new object of type <class 'llama_index.response_synthesizers.compact_and_refine.CompactAndRefine'> at 0x24c305404f0 is calling an instrumented method <function CompactAndRefine.get_response at 0x0000024A86039510>. The path of this call may be incorrect.\n",
      "Guessing path of new object is app._response_synthesizer based on other object (0x24deb94a020) using this function.\n",
      "A new object of type <class 'llama_index.response_synthesizers.compact_and_refine.CompactAndRefine'> at 0x24c305404f0 is calling an instrumented method <function Refine.get_response at 0x0000024A871B4040>. The path of this call may be incorrect.\n",
      "Guessing path of new object is app._response_synthesizer based on other object (0x24deb94a020) using this function.\n",
      "A new object of type <class 'llama_index.llm_predictor.base.LLMPredictor'> at 0x24cf51c2340 is calling an instrumented method <function LLMPredictor.predict at 0x0000024AFF222E60>. The path of this call may be incorrect.\n",
      "Guessing path of new object is app._response_synthesizer.service_context.llm_predictor based on other object (0x24de5d0d5c0) using this function.\n",
      "A new object of type <class 'llama_index.query_engine.retriever_query_engine.RetrieverQueryEngine'> at 0x24c077892a0 is calling an instrumented method <function RetrieverQueryEngine.retrieve at 0x0000024A8B7E0EE0>. The path of this call may be incorrect.\n",
      "Guessing path of new object is app based on other object (0x24deb949b10) using this function.\n",
      "A new object of type <class 'llama_index.response_synthesizers.compact_and_refine.CompactAndRefine'> at 0x24c305404f0 is calling an instrumented method <function Refine.get_response at 0x0000024A871B4040>. The path of this call may be incorrect.\n",
      "Guessing path of new object is app._response_synthesizer based on other object (0x24deb94a020) using this function.\n",
      "A new object of type <class 'llama_index.query_engine.retriever_query_engine.RetrieverQueryEngine'> at 0x24c077892a0 is calling an instrumented method <function RetrieverQueryEngine.retrieve at 0x0000024A8B7E0EE0>. The path of this call may be incorrect.\n",
      "Guessing path of new object is app based on other object (0x24deb949b10) using this function.\n",
      "A new object of type <class 'llama_index.response_synthesizers.compact_and_refine.CompactAndRefine'> at 0x24c305404f0 is calling an instrumented method <function Refine.get_response at 0x0000024A871B4040>. The path of this call may be incorrect.\n",
      "Guessing path of new object is app._response_synthesizer based on other object (0x24deb94a020) using this function.\n",
      "A new object of type <class 'llama_index.query_engine.retriever_query_engine.RetrieverQueryEngine'> at 0x24c077892a0 is calling an instrumented method <function RetrieverQueryEngine.retrieve at 0x0000024A8B7E0EE0>. The path of this call may be incorrect.\n",
      "Guessing path of new object is app based on other object (0x24deb949b10) using this function.\n",
      "A new object of type <class 'llama_index.response_synthesizers.compact_and_refine.CompactAndRefine'> at 0x24c305404f0 is calling an instrumented method <function Refine.get_response at 0x0000024A871B4040>. The path of this call may be incorrect.\n",
      "Guessing path of new object is app._response_synthesizer based on other object (0x24deb94a020) using this function.\n",
      "A new object of type <class 'llama_index.query_engine.retriever_query_engine.RetrieverQueryEngine'> at 0x24c077892a0 is calling an instrumented method <function RetrieverQueryEngine.retrieve at 0x0000024A8B7E0EE0>. The path of this call may be incorrect.\n",
      "Guessing path of new object is app based on other object (0x24deb949b10) using this function.\n",
      "A new object of type <class 'llama_index.response_synthesizers.compact_and_refine.CompactAndRefine'> at 0x24c305404f0 is calling an instrumented method <function Refine.get_response at 0x0000024A871B4040>. The path of this call may be incorrect.\n",
      "Guessing path of new object is app._response_synthesizer based on other object (0x24deb94a020) using this function.\n"
     ]
    },
    {
     "name": "stdout",
     "output_type": "stream",
     "text": [
      "Starting dashboard ...\n",
      "Config file already exists. Skipping writing process.\n",
      "Credentials file already exists. Skipping writing process.\n",
      "Dashboard already running at path:   Network URL: http://192.168.0.4:8501\n",
      "\n"
     ]
    },
    {
     "data": {
      "text/plain": [
       "<Popen: returncode: None args: ['streamlit', 'run', '--server.headless=True'...>"
      ]
     },
     "execution_count": 23,
     "metadata": {},
     "output_type": "execute_result"
    }
   ],
   "source": [
    "from utils import get_trulens_recorder, run_evals, build_sentence_window_index, get_sentence_window_query_engine\n",
    "from llama_index.llms import OpenAI\n",
    "       \n",
    "sentence_index_1 = build_sentence_window_index(\n",
    "    documents,\n",
    "    llm=OpenAI(model=\"gpt-3.5-turbo\", temperature=0.1),\n",
    "    embed_model=\"local:BAAI/bge-small-en-v1.5\",\n",
    "    sentence_window_size=1,\n",
    "    save_dir=\"./index/sentence_index_1\",\n",
    ")\n",
    "\n",
    "sentence_window_engine_1 = get_sentence_window_query_engine(\n",
    "    sentence_index_1\n",
    ")\n",
    "\n",
    "tru_recorder_1 = get_trulens_recorder(\n",
    "    sentence_window_engine_1,\n",
    "    app_id='sentence window engine 1'\n",
    ")\n",
    "\n",
    "run_evals(eval_questions, tru_recorder_1, sentence_window_engine_1)\n",
    "Tru().run_dashboard()"
   ]
  },
  {
   "cell_type": "code",
   "execution_count": 24,
   "metadata": {},
   "outputs": [
    {
     "data": {
      "text/plain": [
       "\"To become an AI expert, one can start by developing machine learning systems in their spare time. This can eventually become part of their job, providing access to more resources such as equipment, compute time, labeling budget, or head count. Working on small-scale projects either alone or with friends, such as re-implementing known algorithms or applying machine learning to hobbies, can also help in gaining expertise. Additionally, building useful systems at work in spare time, like a machine learning-based script to automate tasks, can contribute to becoming an AI expert. Encouraging and supporting others who are also learning AI can further enhance one's expertise in the field.\""
      ]
     },
     "execution_count": 24,
     "metadata": {},
     "output_type": "execute_result"
    }
   ],
   "source": [
    "sentence_window_engine_1.query('how to become AI expert').response"
   ]
  },
  {
   "cell_type": "code",
   "execution_count": 25,
   "metadata": {},
   "outputs": [
    {
     "data": {
      "text/plain": [
       "'You could consider implementing a machine learning algorithm to predict power generation from intermittent sources. This project could involve using satellite imagery to map the locations of wind turbines more accurately, estimating the height and generation capacity of wind turbines using satellite imagery, or using weather data to better predict cloud cover and solar irradiance.'"
      ]
     },
     "execution_count": 25,
     "metadata": {},
     "output_type": "execute_result"
    }
   ],
   "source": [
    "sentence_window_engine_1.query('Recommnd me an AI project').response"
   ]
  },
  {
   "cell_type": "markdown",
   "metadata": {},
   "source": [
    "## Window=3"
   ]
  },
  {
   "cell_type": "code",
   "execution_count": 26,
   "metadata": {},
   "outputs": [
    {
     "name": "stdout",
     "output_type": "stream",
     "text": [
      "✅ In Answer Relevance, input prompt will be set to __record__.main_input or `Select.RecordInput` .\n",
      "✅ In Answer Relevance, input response will be set to __record__.main_output or `Select.RecordOutput` .\n",
      "✅ In Context Relevance, input prompt will be set to __record__.main_input or `Select.RecordInput` .\n",
      "✅ In Context Relevance, input response will be set to __record__.app.query.rets.source_nodes[:].node.text .\n",
      "✅ In Groundedness, input source will be set to __record__.app.query.rets.source_nodes[:].node.text .\n",
      "✅ In Groundedness, input statement will be set to __record__.main_output or `Select.RecordOutput` .\n",
      "Starting dashboard ...\n",
      "Config file already exists. Skipping writing process.\n",
      "Credentials file already exists. Skipping writing process.\n",
      "Dashboard already running at path:   Network URL: http://192.168.0.4:8501\n",
      "\n"
     ]
    },
    {
     "data": {
      "text/plain": [
       "<Popen: returncode: None args: ['streamlit', 'run', '--server.headless=True'...>"
      ]
     },
     "execution_count": 26,
     "metadata": {},
     "output_type": "execute_result"
    }
   ],
   "source": [
    "sentence_index_3 = build_sentence_window_index(\n",
    "    documents,\n",
    "    llm=OpenAI(model=\"gpt-3.5-turbo\", temperature=0.1),\n",
    "    embed_model=\"local:BAAI/bge-small-en-v1.5\",\n",
    "    sentence_window_size=3,\n",
    "    save_dir=\"./index/sentence_index_3\",\n",
    ")\n",
    "\n",
    "sentence_window_engine_3 = get_sentence_window_query_engine(\n",
    "    sentence_index_3\n",
    ")\n",
    "\n",
    "tru_recorder_3 = get_trulens_recorder(\n",
    "    sentence_window_engine_3,\n",
    "    app_id='sentence window engine 3'\n",
    ")\n",
    "\n",
    "run_evals(eval_questions, tru_recorder_3, sentence_window_engine_3)\n",
    "Tru().run_dashboard()"
   ]
  },
  {
   "cell_type": "markdown",
   "metadata": {},
   "source": [
    "## Window=5"
   ]
  },
  {
   "cell_type": "code",
   "execution_count": 27,
   "metadata": {},
   "outputs": [
    {
     "name": "stdout",
     "output_type": "stream",
     "text": [
      "✅ In Answer Relevance, input prompt will be set to __record__.main_input or `Select.RecordInput` .\n",
      "✅ In Answer Relevance, input response will be set to __record__.main_output or `Select.RecordOutput` .\n",
      "✅ In Context Relevance, input prompt will be set to __record__.main_input or `Select.RecordInput` .\n",
      "✅ In Context Relevance, input response will be set to __record__.app.query.rets.source_nodes[:].node.text .\n",
      "✅ In Groundedness, input source will be set to __record__.app.query.rets.source_nodes[:].node.text .\n",
      "✅ In Groundedness, input statement will be set to __record__.main_output or `Select.RecordOutput` .\n",
      "Starting dashboard ...\n",
      "Config file already exists. Skipping writing process.\n",
      "Credentials file already exists. Skipping writing process.\n",
      "Dashboard already running at path:   Network URL: http://192.168.0.4:8501\n",
      "\n"
     ]
    },
    {
     "data": {
      "text/plain": [
       "<Popen: returncode: None args: ['streamlit', 'run', '--server.headless=True'...>"
      ]
     },
     "execution_count": 27,
     "metadata": {},
     "output_type": "execute_result"
    }
   ],
   "source": [
    "sentence_index_5 = build_sentence_window_index(\n",
    "    documents,\n",
    "    llm=OpenAI(model=\"gpt-3.5-turbo\", temperature=0.1),\n",
    "    embed_model=\"local:BAAI/bge-small-en-v1.5\",\n",
    "    sentence_window_size=5,\n",
    "    save_dir=\"./index/sentence_index_5\",\n",
    ")\n",
    "\n",
    "sentence_window_engine_5 = get_sentence_window_query_engine(\n",
    "    sentence_index_5\n",
    ")\n",
    "\n",
    "tru_recorder_5 = get_trulens_recorder(\n",
    "    sentence_window_engine_5,\n",
    "    app_id='sentence window engine 5'\n",
    ")\n",
    "\n",
    "run_evals(eval_questions, tru_recorder_5, sentence_window_engine_5)\n",
    "Tru().run_dashboard()"
   ]
  },
  {
   "cell_type": "code",
   "execution_count": 28,
   "metadata": {},
   "outputs": [
    {
     "data": {
      "text/plain": [
       "'성공적인 AI 프로젝트를 위해서는 몇 가지 목표를 설정하는 것이 중요합니다. 첫째, 작은 규모의 프로젝트부터 시작하여 점진적으로 복잡한 프로젝트로 나아가는 것이 도움이 됩니다. 둘째, 프로젝트의 가치를 타인에게 설명할 수 있는 커뮤니케이션 능력이 필요합니다. 이를 통해 동료, 멘토, 그리고 매니저들을 프로젝트에 참여시키고, 자신의 사고과정을 이해하고 신뢰를 얻을 수 있습니다.\\n\\nAI 프로젝트의 주제 추천은 주어진 문맥에서 직접적으로 언급되지 않았으므로, 해당 주제에 대한 정보는 제공할 수 없습니다.'"
      ]
     },
     "execution_count": 28,
     "metadata": {},
     "output_type": "execute_result"
    }
   ],
   "source": [
    "sentence_window_engine_5.query('성공적인 AI 프로젝트를 하기 위해서는 어떤 목표를 잡고 해야 할까? 그리고 주제 추전도 몇가지 해줘').response"
   ]
  },
  {
   "cell_type": "markdown",
   "metadata": {},
   "source": [
    "# Auto-merging"
   ]
  },
  {
   "cell_type": "code",
   "execution_count": 29,
   "metadata": {},
   "outputs": [
    {
     "name": "stdout",
     "output_type": "stream",
     "text": [
      "✅ In Answer Relevance, input prompt will be set to __record__.main_input or `Select.RecordInput` .\n",
      "✅ In Answer Relevance, input response will be set to __record__.main_output or `Select.RecordOutput` .\n",
      "✅ In Context Relevance, input prompt will be set to __record__.main_input or `Select.RecordInput` .\n",
      "✅ In Context Relevance, input response will be set to __record__.app.query.rets.source_nodes[:].node.text .\n",
      "✅ In Groundedness, input source will be set to __record__.app.query.rets.source_nodes[:].node.text .\n",
      "✅ In Groundedness, input statement will be set to __record__.main_output or `Select.RecordOutput` .\n"
     ]
    },
    {
     "name": "stderr",
     "output_type": "stream",
     "text": [
      "A new object of type <class 'llama_index.query_engine.retriever_query_engine.RetrieverQueryEngine'> at 0x24e4e0eb8b0 is calling an instrumented method <function BaseQueryEngine.query at 0x0000024A85BD49D0>. The path of this call may be incorrect.\n",
      "Guessing path of new object is app based on other object (0x24c46abe200) using this function.\n",
      "A new object of type <class 'llama_index.query_engine.retriever_query_engine.RetrieverQueryEngine'> at 0x24e4e0eb8b0 is calling an instrumented method <function RetrieverQueryEngine.retrieve at 0x0000024A8B7E0EE0>. The path of this call may be incorrect.\n",
      "Guessing path of new object is app based on other object (0x24c46abe200) using this function.\n",
      "A new object of type <class 'llama_index.retrievers.auto_merging_retriever.AutoMergingRetriever'> at 0x24e4b602830 is calling an instrumented method <function BaseRetriever.retrieve at 0x0000024A85BAFBE0>. The path of this call may be incorrect.\n",
      "Guessing path of new object is app.retriever based on other object (0x24de85c26b0) using this function.\n",
      "A new object of type <class 'llama_index.indices.vector_store.retrievers.retriever.VectorIndexRetriever'> at 0x24e4b601b40 is calling an instrumented method <function BaseRetriever.retrieve at 0x0000024A85BAFBE0>. The path of this call may be incorrect.\n",
      "Guessing path of new object is app.retriever based on other object (0x24c46abe2f0) using this function.\n"
     ]
    },
    {
     "name": "stdout",
     "output_type": "stream",
     "text": [
      "> Merging 4 nodes into parent node.\n",
      "> Parent node id: db0e2d3f-962d-44a9-8b7e-c983170bec6c.\n",
      "> Parent node text: PAGE 26If you’re considering a role switch, a startup can be an easier place to do it than a big ...\n",
      "\n",
      "> Merging 4 nodes into parent node.\n",
      "> Parent node id: 387d1b70-fbf8-48d2-b4ae-b557e92b233a.\n",
      "> Parent node text: PAGE 25Finding a job has a few predictable steps that include selecting the companies to which yo...\n",
      "\n"
     ]
    },
    {
     "name": "stderr",
     "output_type": "stream",
     "text": [
      "A new object of type <class 'llama_index.response_synthesizers.compact_and_refine.CompactAndRefine'> at 0x24e4e0eb940 is calling an instrumented method <function CompactAndRefine.get_response at 0x0000024A86039510>. The path of this call may be incorrect.\n",
      "Guessing path of new object is app._response_synthesizer based on other object (0x24c46abd480) using this function.\n",
      "A new object of type <class 'llama_index.response_synthesizers.compact_and_refine.CompactAndRefine'> at 0x24e4e0eb940 is calling an instrumented method <function Refine.get_response at 0x0000024A871B4040>. The path of this call may be incorrect.\n",
      "Guessing path of new object is app._response_synthesizer based on other object (0x24c46abd480) using this function.\n",
      "A new object of type <class 'llama_index.llm_predictor.base.LLMPredictor'> at 0x24c46d47200 is calling an instrumented method <function LLMPredictor.predict at 0x0000024AFF222E60>. The path of this call may be incorrect.\n",
      "Guessing path of new object is app._response_synthesizer.service_context.llm_predictor based on other object (0x24ca5d8ebc0) using this function.\n",
      "A new object of type <class 'llama_index.query_engine.retriever_query_engine.RetrieverQueryEngine'> at 0x24e4e0eb8b0 is calling an instrumented method <function RetrieverQueryEngine.retrieve at 0x0000024A8B7E0EE0>. The path of this call may be incorrect.\n",
      "Guessing path of new object is app based on other object (0x24c46abe200) using this function.\n"
     ]
    },
    {
     "name": "stdout",
     "output_type": "stream",
     "text": [
      "> Merging 4 nodes into parent node.\n",
      "> Parent node id: 25b3d45b-7e06-49d9-bf5d-4942f5d8a7ee.\n",
      "> Parent node text: PAGE 27There’s a lot we don’t know about the future: When will we cure Alzheimer’s disease? Who w...\n",
      "\n"
     ]
    },
    {
     "name": "stderr",
     "output_type": "stream",
     "text": [
      "A new object of type <class 'llama_index.response_synthesizers.compact_and_refine.CompactAndRefine'> at 0x24e4e0eb940 is calling an instrumented method <function Refine.get_response at 0x0000024A871B4040>. The path of this call may be incorrect.\n",
      "Guessing path of new object is app._response_synthesizer based on other object (0x24c46abd480) using this function.\n",
      "A new object of type <class 'llama_index.query_engine.retriever_query_engine.RetrieverQueryEngine'> at 0x24e4e0eb8b0 is calling an instrumented method <function RetrieverQueryEngine.retrieve at 0x0000024A8B7E0EE0>. The path of this call may be incorrect.\n",
      "Guessing path of new object is app based on other object (0x24c46abe200) using this function.\n"
     ]
    },
    {
     "name": "stdout",
     "output_type": "stream",
     "text": [
      "> Merging 4 nodes into parent node.\n",
      "> Parent node id: a7424e4e-8ea5-45e6-b774-f9b4878534a6.\n",
      "> Parent node text: PAGE 20Working on projects requires making tough choices about what to build and how to go \n",
      "about...\n",
      "\n",
      "> Merging 2 nodes into parent node.\n",
      "> Parent node id: 891df882-588f-4e56-8a84-bba376862693.\n",
      "> Parent node text: But when committing to a direction means making a costly investment or entering a one-\n",
      "way door  ...\n",
      "\n"
     ]
    },
    {
     "name": "stderr",
     "output_type": "stream",
     "text": [
      "A new object of type <class 'llama_index.response_synthesizers.compact_and_refine.CompactAndRefine'> at 0x24e4e0eb940 is calling an instrumented method <function Refine.get_response at 0x0000024A871B4040>. The path of this call may be incorrect.\n",
      "Guessing path of new object is app._response_synthesizer based on other object (0x24c46abd480) using this function.\n",
      "A new object of type <class 'llama_index.query_engine.retriever_query_engine.RetrieverQueryEngine'> at 0x24e4e0eb8b0 is calling an instrumented method <function RetrieverQueryEngine.retrieve at 0x0000024A8B7E0EE0>. The path of this call may be incorrect.\n",
      "Guessing path of new object is app based on other object (0x24c46abe200) using this function.\n"
     ]
    },
    {
     "name": "stdout",
     "output_type": "stream",
     "text": [
      "> Merging 2 nodes into parent node.\n",
      "> Parent node id: 5e12ce25-1cd8-4077-9ade-b6b84fdb7ae2.\n",
      "> Parent node text: PAGE 6The rapid rise of AI has led to a rapid rise in AI jobs, and many people are building excit...\n",
      "\n",
      "> Merging 3 nodes into parent node.\n",
      "> Parent node id: e20a04de-612e-4ff3-817e-ee7612ebf8db.\n",
      "> Parent node text: PAGE 23Each project is only one step on a longer journey, hopefully one that has a positive impac...\n",
      "\n"
     ]
    },
    {
     "name": "stderr",
     "output_type": "stream",
     "text": [
      "A new object of type <class 'llama_index.response_synthesizers.compact_and_refine.CompactAndRefine'> at 0x24e4e0eb940 is calling an instrumented method <function Refine.get_response at 0x0000024A871B4040>. The path of this call may be incorrect.\n",
      "Guessing path of new object is app._response_synthesizer based on other object (0x24c46abd480) using this function.\n",
      "A new object of type <class 'llama_index.query_engine.retriever_query_engine.RetrieverQueryEngine'> at 0x24e4e0eb8b0 is calling an instrumented method <function RetrieverQueryEngine.retrieve at 0x0000024A8B7E0EE0>. The path of this call may be incorrect.\n",
      "Guessing path of new object is app based on other object (0x24c46abe200) using this function.\n"
     ]
    },
    {
     "name": "stdout",
     "output_type": "stream",
     "text": [
      "> Merging 4 nodes into parent node.\n",
      "> Parent node id: b2e8de45-703e-45b3-8be3-48f9663f158e.\n",
      "> Parent node text: PAGE 9In the previous chapter, I introduced three key steps for building a career in AI: learning...\n",
      "\n",
      "> Merging 5 nodes into parent node.\n",
      "> Parent node id: 239e92a9-1ea5-4829-9f75-a513cc9dffa8.\n",
      "> Parent node text: PAGE 13Should you Learn Math to Get a Job in AI? CHAPTER 3\n",
      "Is math a foundational skill for AI? I...\n",
      "\n"
     ]
    },
    {
     "name": "stderr",
     "output_type": "stream",
     "text": [
      "A new object of type <class 'llama_index.response_synthesizers.compact_and_refine.CompactAndRefine'> at 0x24e4e0eb940 is calling an instrumented method <function Refine.get_response at 0x0000024A871B4040>. The path of this call may be incorrect.\n",
      "Guessing path of new object is app._response_synthesizer based on other object (0x24c46abd480) using this function.\n"
     ]
    },
    {
     "name": "stdout",
     "output_type": "stream",
     "text": [
      "Starting dashboard ...\n",
      "Config file already exists. Skipping writing process.\n",
      "Credentials file already exists. Skipping writing process.\n",
      "Dashboard already running at path:   Network URL: http://192.168.0.4:8501\n",
      "\n"
     ]
    },
    {
     "data": {
      "text/plain": [
       "<Popen: returncode: None args: ['streamlit', 'run', '--server.headless=True'...>"
      ]
     },
     "execution_count": 29,
     "metadata": {},
     "output_type": "execute_result"
    }
   ],
   "source": [
    "from utils import get_trulens_recorder, run_evals, build_automerging_index, get_automerging_query_engine\n",
    "from llama_index.llms import OpenAI\n",
    "\n",
    "auto_merging_index2 = build_automerging_index(\n",
    "                    documents=documents,\n",
    "                    llm=OpenAI(model=\"gpt-3.5-turbo\", temperature=0.1),\n",
    "                    embed_model=\"local:BAAI/bge-small-en-v1.5\",\n",
    "                    chunk_sizes=[512, 128],\n",
    "                    save_dir='./index/auto_merging_2'\n",
    "                    \n",
    ")\n",
    "\n",
    "auto_merging_engine2 = get_automerging_query_engine(\n",
    "                    automerging_index=auto_merging_index2,\n",
    "                    similarity_top_k=12,\n",
    "                    rerank_top_n=6\n",
    ")\n",
    "\n",
    "auto_merging_recorder2 = get_trulens_recorder(query_engine=auto_merging_engine2,\n",
    "                                              app_id='Auto Merging 2 Layers')\n",
    "run_evals(eval_questions, auto_merging_recorder2, auto_merging_engine2)\n",
    "Tru().run_dashboard()"
   ]
  },
  {
   "cell_type": "code",
   "execution_count": 30,
   "metadata": {},
   "outputs": [
    {
     "name": "stdout",
     "output_type": "stream",
     "text": [
      "✅ In Answer Relevance, input prompt will be set to __record__.main_input or `Select.RecordInput` .\n",
      "✅ In Answer Relevance, input response will be set to __record__.main_output or `Select.RecordOutput` .\n",
      "✅ In Context Relevance, input prompt will be set to __record__.main_input or `Select.RecordInput` .\n",
      "✅ In Context Relevance, input response will be set to __record__.app.query.rets.source_nodes[:].node.text .\n",
      "✅ In Groundedness, input source will be set to __record__.app.query.rets.source_nodes[:].node.text .\n",
      "✅ In Groundedness, input statement will be set to __record__.main_output or `Select.RecordOutput` .\n"
     ]
    },
    {
     "name": "stderr",
     "output_type": "stream",
     "text": [
      "A new object of type <class 'llama_index.query_engine.retriever_query_engine.RetrieverQueryEngine'> at 0x24f14fc1bd0 is calling an instrumented method <function BaseQueryEngine.query at 0x0000024A85BD49D0>. The path of this call may be incorrect.\n",
      "Guessing path of new object is app based on other object (0x24c46abe200) using this function.\n",
      "A new object of type <class 'llama_index.query_engine.retriever_query_engine.RetrieverQueryEngine'> at 0x24f14fc1bd0 is calling an instrumented method <function RetrieverQueryEngine.retrieve at 0x0000024A8B7E0EE0>. The path of this call may be incorrect.\n",
      "Guessing path of new object is app based on other object (0x24c46abe200) using this function.\n",
      "A new object of type <class 'llama_index.retrievers.auto_merging_retriever.AutoMergingRetriever'> at 0x24f14f24f10 is calling an instrumented method <function BaseRetriever.retrieve at 0x0000024A85BAFBE0>. The path of this call may be incorrect.\n",
      "Guessing path of new object is app.retriever based on other object (0x24de85c26b0) using this function.\n",
      "A new object of type <class 'llama_index.indices.vector_store.retrievers.retriever.VectorIndexRetriever'> at 0x24f14f24eb0 is calling an instrumented method <function BaseRetriever.retrieve at 0x0000024A85BAFBE0>. The path of this call may be incorrect.\n",
      "Guessing path of new object is app.retriever based on other object (0x24c46abe2f0) using this function.\n"
     ]
    },
    {
     "name": "stdout",
     "output_type": "stream",
     "text": [
      "> Merging 4 nodes into parent node.\n",
      "> Parent node id: 216892c2-5e2c-4ee0-9ef7-da245f3851c8.\n",
      "> Parent node text: PAGE 26If you’re considering a role switch, a startup can be an easier place to do it than a big ...\n",
      "\n",
      "> Merging 4 nodes into parent node.\n",
      "> Parent node id: d51f1068-e152-4f93-9ee0-1bdd989e07f4.\n",
      "> Parent node text: PAGE 25Finding a job has a few predictable steps that include selecting the companies to which yo...\n",
      "\n",
      "> Merging 1 nodes into parent node.\n",
      "> Parent node id: 32087804-fe53-4543-9767-02b0a87918b0.\n",
      "> Parent node text: PAGE 26If you’re considering a role switch, a startup can be an easier place to do it than a big ...\n",
      "\n",
      "> Merging 1 nodes into parent node.\n",
      "> Parent node id: a515d240-d52e-49a1-88a1-d3f844a1e503.\n",
      "> Parent node text: PAGE 25Finding a job has a few predictable steps that include selecting the companies to which yo...\n",
      "\n"
     ]
    },
    {
     "name": "stderr",
     "output_type": "stream",
     "text": [
      "A new object of type <class 'llama_index.response_synthesizers.compact_and_refine.CompactAndRefine'> at 0x24f14fc1d50 is calling an instrumented method <function CompactAndRefine.get_response at 0x0000024A86039510>. The path of this call may be incorrect.\n",
      "Guessing path of new object is app._response_synthesizer based on other object (0x24c46abd480) using this function.\n",
      "A new object of type <class 'llama_index.response_synthesizers.compact_and_refine.CompactAndRefine'> at 0x24f14fc1d50 is calling an instrumented method <function Refine.get_response at 0x0000024A871B4040>. The path of this call may be incorrect.\n",
      "Guessing path of new object is app._response_synthesizer based on other object (0x24c46abd480) using this function.\n",
      "A new object of type <class 'llama_index.llm_predictor.base.LLMPredictor'> at 0x24e4b559540 is calling an instrumented method <function LLMPredictor.predict at 0x0000024AFF222E60>. The path of this call may be incorrect.\n",
      "Guessing path of new object is app._response_synthesizer.service_context.llm_predictor based on other object (0x24ca5d8ebc0) using this function.\n",
      "A new object of type <class 'llama_index.query_engine.retriever_query_engine.RetrieverQueryEngine'> at 0x24f14fc1bd0 is calling an instrumented method <function RetrieverQueryEngine.retrieve at 0x0000024A8B7E0EE0>. The path of this call may be incorrect.\n",
      "Guessing path of new object is app based on other object (0x24c46abe200) using this function.\n"
     ]
    },
    {
     "name": "stdout",
     "output_type": "stream",
     "text": [
      "> Merging 4 nodes into parent node.\n",
      "> Parent node id: 81955260-f7f2-4921-bf18-270a943959b4.\n",
      "> Parent node text: PAGE 27There’s a lot we don’t know about the future: When will we cure Alzheimer’s disease? Who w...\n",
      "\n",
      "> Merging 1 nodes into parent node.\n",
      "> Parent node id: 694eb861-73bf-4ad9-aad4-e42412042eee.\n",
      "> Parent node text: PAGE 27There’s a lot we don’t know about the future: When will we cure Alzheimer’s disease? Who w...\n",
      "\n"
     ]
    },
    {
     "name": "stderr",
     "output_type": "stream",
     "text": [
      "A new object of type <class 'llama_index.response_synthesizers.compact_and_refine.CompactAndRefine'> at 0x24f14fc1d50 is calling an instrumented method <function Refine.get_response at 0x0000024A871B4040>. The path of this call may be incorrect.\n",
      "Guessing path of new object is app._response_synthesizer based on other object (0x24c46abd480) using this function.\n",
      "A new object of type <class 'llama_index.query_engine.retriever_query_engine.RetrieverQueryEngine'> at 0x24f14fc1bd0 is calling an instrumented method <function RetrieverQueryEngine.retrieve at 0x0000024A8B7E0EE0>. The path of this call may be incorrect.\n",
      "Guessing path of new object is app based on other object (0x24c46abe200) using this function.\n",
      "A new object of type <class 'llama_index.retrievers.auto_merging_retriever.AutoMergingRetriever'> at 0x24f14f24f10 is calling an instrumented method <function BaseRetriever.retrieve at 0x0000024A85BAFBE0>. The path of this call may be incorrect.\n",
      "Guessing path of new object is app.retriever based on other object (0x24e4b602830) using this function.\n"
     ]
    },
    {
     "name": "stdout",
     "output_type": "stream",
     "text": [
      "> Merging 4 nodes into parent node.\n",
      "> Parent node id: 7606474b-1faa-42bb-a516-31e9adc368bd.\n",
      "> Parent node text: PAGE 20Working on projects requires making tough choices about what to build and how to go \n",
      "about...\n",
      "\n",
      "> Merging 2 nodes into parent node.\n",
      "> Parent node id: 8ef13a64-59dd-4d96-8bbf-c655fdbc3a0a.\n",
      "> Parent node text: But when committing to a direction means making a costly investment or entering a one-\n",
      "way door  ...\n",
      "\n",
      "> Merging 2 nodes into parent node.\n",
      "> Parent node id: ce64a1c3-985f-48df-bf04-494f5388cd14.\n",
      "> Parent node text: PAGE 20Working on projects requires making tough choices about what to build and how to go \n",
      "about...\n",
      "\n"
     ]
    },
    {
     "name": "stderr",
     "output_type": "stream",
     "text": [
      "A new object of type <class 'llama_index.response_synthesizers.compact_and_refine.CompactAndRefine'> at 0x24f14fc1d50 is calling an instrumented method <function Refine.get_response at 0x0000024A871B4040>. The path of this call may be incorrect.\n",
      "Guessing path of new object is app._response_synthesizer based on other object (0x24c46abd480) using this function.\n",
      "A new object of type <class 'llama_index.query_engine.retriever_query_engine.RetrieverQueryEngine'> at 0x24f14fc1bd0 is calling an instrumented method <function RetrieverQueryEngine.retrieve at 0x0000024A8B7E0EE0>. The path of this call may be incorrect.\n",
      "Guessing path of new object is app based on other object (0x24c46abe200) using this function.\n"
     ]
    },
    {
     "name": "stdout",
     "output_type": "stream",
     "text": [
      "> Merging 2 nodes into parent node.\n",
      "> Parent node id: f3ee5c6c-188a-4f8d-a58f-b12617f439c5.\n",
      "> Parent node text: PAGE 6The rapid rise of AI has led to a rapid rise in AI jobs, and many people are building excit...\n",
      "\n",
      "> Merging 3 nodes into parent node.\n",
      "> Parent node id: d0f7701f-551c-4752-b6bd-16a777ccff6b.\n",
      "> Parent node text: PAGE 23Each project is only one step on a longer journey, hopefully one that has a positive impac...\n",
      "\n",
      "> Merging 1 nodes into parent node.\n",
      "> Parent node id: d3f1dcdd-b844-45bb-8b19-535e6a3cec59.\n",
      "> Parent node text: PAGE 6The rapid rise of AI has led to a rapid rise in AI jobs, and many people are building excit...\n",
      "\n",
      "> Merging 1 nodes into parent node.\n",
      "> Parent node id: 6b1b9093-80f4-4869-a5c1-1a71b95578a9.\n",
      "> Parent node text: PAGE 23Each project is only one step on a longer journey, hopefully one that has a positive impac...\n",
      "\n"
     ]
    },
    {
     "name": "stderr",
     "output_type": "stream",
     "text": [
      "A new object of type <class 'llama_index.response_synthesizers.compact_and_refine.CompactAndRefine'> at 0x24f14fc1d50 is calling an instrumented method <function Refine.get_response at 0x0000024A871B4040>. The path of this call may be incorrect.\n",
      "Guessing path of new object is app._response_synthesizer based on other object (0x24c46abd480) using this function.\n",
      "A new object of type <class 'llama_index.query_engine.retriever_query_engine.RetrieverQueryEngine'> at 0x24f14fc1bd0 is calling an instrumented method <function RetrieverQueryEngine.retrieve at 0x0000024A8B7E0EE0>. The path of this call may be incorrect.\n",
      "Guessing path of new object is app based on other object (0x24c46abe200) using this function.\n"
     ]
    },
    {
     "name": "stdout",
     "output_type": "stream",
     "text": [
      "> Merging 4 nodes into parent node.\n",
      "> Parent node id: b4eacb2d-2a63-4b82-a7f8-e3642a2cd638.\n",
      "> Parent node text: PAGE 9In the previous chapter, I introduced three key steps for building a career in AI: learning...\n",
      "\n",
      "> Merging 5 nodes into parent node.\n",
      "> Parent node id: 41d82d91-4b74-4ead-8beb-75dc94e65bea.\n",
      "> Parent node text: PAGE 13Should you Learn Math to Get a Job in AI? CHAPTER 3\n",
      "Is math a foundational skill for AI? I...\n",
      "\n",
      "> Merging 1 nodes into parent node.\n",
      "> Parent node id: e1285783-fc53-4986-a320-3f98b3bc2b4b.\n",
      "> Parent node text: PAGE 13Should you Learn Math to Get a Job in AI? CHAPTER 3\n",
      "Is math a foundational skill for AI? I...\n",
      "\n"
     ]
    },
    {
     "name": "stderr",
     "output_type": "stream",
     "text": [
      "A new object of type <class 'llama_index.response_synthesizers.compact_and_refine.CompactAndRefine'> at 0x24f14fc1d50 is calling an instrumented method <function Refine.get_response at 0x0000024A871B4040>. The path of this call may be incorrect.\n",
      "Guessing path of new object is app._response_synthesizer based on other object (0x24c46abd480) using this function.\n"
     ]
    },
    {
     "name": "stdout",
     "output_type": "stream",
     "text": [
      "Starting dashboard ...\n",
      "Config file already exists. Skipping writing process.\n",
      "Credentials file already exists. Skipping writing process.\n",
      "Dashboard already running at path:   Network URL: http://192.168.0.4:8501\n",
      "\n"
     ]
    },
    {
     "data": {
      "text/plain": [
       "<Popen: returncode: None args: ['streamlit', 'run', '--server.headless=True'...>"
      ]
     },
     "execution_count": 30,
     "metadata": {},
     "output_type": "execute_result"
    }
   ],
   "source": [
    "auto_merging_index3 = build_automerging_index(\n",
    "                    documents=documents,\n",
    "                    llm=OpenAI(model=\"gpt-3.5-turbo\", temperature=0.1),\n",
    "                    embed_model=\"local:BAAI/bge-small-en-v1.5\",\n",
    "                    chunk_sizes=[2048, 512, 128],\n",
    "                    save_dir='./index/auto_merging_3'\n",
    "                    \n",
    ")\n",
    "\n",
    "auto_merging_engine3 = get_automerging_query_engine(\n",
    "                    automerging_index=auto_merging_index3,\n",
    "                    similarity_top_k=12,\n",
    "                    rerank_top_n=6\n",
    ")\n",
    "\n",
    "auto_merging_recorder3 = get_trulens_recorder(query_engine=auto_merging_engine3,\n",
    "                                              app_id='Auto Merging 3 Layers')\n",
    "run_evals(eval_questions, auto_merging_recorder3, auto_merging_engine3)\n",
    "Tru().run_dashboard()"
   ]
  },
  {
   "cell_type": "code",
   "execution_count": 31,
   "metadata": {},
   "outputs": [
    {
     "name": "stdout",
     "output_type": "stream",
     "text": [
      "✅ In Answer Relevance, input prompt will be set to __record__.main_input or `Select.RecordInput` .\n",
      "✅ In Answer Relevance, input response will be set to __record__.main_output or `Select.RecordOutput` .\n",
      "✅ In Context Relevance, input prompt will be set to __record__.main_input or `Select.RecordInput` .\n",
      "✅ In Context Relevance, input response will be set to __record__.app.query.rets.source_nodes[:].node.text .\n",
      "✅ In Groundedness, input source will be set to __record__.app.query.rets.source_nodes[:].node.text .\n",
      "✅ In Groundedness, input statement will be set to __record__.main_output or `Select.RecordOutput` .\n"
     ]
    },
    {
     "name": "stderr",
     "output_type": "stream",
     "text": [
      "A new object of type <class 'llama_index.query_engine.retriever_query_engine.RetrieverQueryEngine'> at 0x24deba2a530 is calling an instrumented method <function BaseQueryEngine.query at 0x0000024A85BD49D0>. The path of this call may be incorrect.\n",
      "Guessing path of new object is app based on other object (0x24c46abe200) using this function.\n",
      "A new object of type <class 'llama_index.query_engine.retriever_query_engine.RetrieverQueryEngine'> at 0x24deba2a530 is calling an instrumented method <function RetrieverQueryEngine.retrieve at 0x0000024A8B7E0EE0>. The path of this call may be incorrect.\n",
      "Guessing path of new object is app based on other object (0x24c46abe200) using this function.\n",
      "A new object of type <class 'llama_index.indices.vector_store.retrievers.retriever.VectorIndexRetriever'> at 0x24e4e1da2c0 is calling an instrumented method <function BaseRetriever.retrieve at 0x0000024A85BAFBE0>. The path of this call may be incorrect.\n",
      "Guessing path of new object is app.retriever based on other object (0x24c46abe2f0) using this function.\n"
     ]
    },
    {
     "name": "stdout",
     "output_type": "stream",
     "text": [
      "> Merging 4 nodes into parent node.\n",
      "> Parent node id: 4052873c-7906-47d3-b2f7-851fab808d62.\n",
      "> Parent node text: PAGE 26If you’re considering a role switch, a startup can be an easier place to do it than a big ...\n",
      "\n",
      "> Merging 4 nodes into parent node.\n",
      "> Parent node id: 7f5014b3-39c0-4b41-9dd9-a2db2f6c6593.\n",
      "> Parent node text: PAGE 25Finding a job has a few predictable steps that include selecting the companies to which yo...\n",
      "\n",
      "> Merging 1 nodes into parent node.\n",
      "> Parent node id: 477dfad1-3f97-49c4-9c8f-3add042b9f92.\n",
      "> Parent node text: PAGE 26If you’re considering a role switch, a startup can be an easier place to do it than a big ...\n",
      "\n",
      "> Merging 1 nodes into parent node.\n",
      "> Parent node id: ecbbe868-8e95-42e9-93ef-256903c148f9.\n",
      "> Parent node text: PAGE 25Finding a job has a few predictable steps that include selecting the companies to which yo...\n",
      "\n",
      "> Merging 1 nodes into parent node.\n",
      "> Parent node id: 6d07ceb4-0d0c-4b52-84a4-5b487d821245.\n",
      "> Parent node text: PAGE 26If you’re considering a role switch, a startup can be an easier place to do it than a big ...\n",
      "\n",
      "> Merging 1 nodes into parent node.\n",
      "> Parent node id: d29cf16f-85a0-4b03-9d0d-5cbfe6cb54b2.\n",
      "> Parent node text: PAGE 25Finding a job has a few predictable steps that include selecting the companies to which yo...\n",
      "\n"
     ]
    },
    {
     "name": "stderr",
     "output_type": "stream",
     "text": [
      "A new object of type <class 'llama_index.response_synthesizers.compact_and_refine.CompactAndRefine'> at 0x24deba2a9e0 is calling an instrumented method <function CompactAndRefine.get_response at 0x0000024A86039510>. The path of this call may be incorrect.\n",
      "Guessing path of new object is app._response_synthesizer based on other object (0x24c46abd480) using this function.\n",
      "A new object of type <class 'llama_index.response_synthesizers.compact_and_refine.CompactAndRefine'> at 0x24deba2a9e0 is calling an instrumented method <function Refine.get_response at 0x0000024A871B4040>. The path of this call may be incorrect.\n",
      "Guessing path of new object is app._response_synthesizer based on other object (0x24c46abd480) using this function.\n",
      "A new object of type <class 'llama_index.llm_predictor.base.LLMPredictor'> at 0x24c46a4b2c0 is calling an instrumented method <function LLMPredictor.predict at 0x0000024AFF222E60>. The path of this call may be incorrect.\n",
      "Guessing path of new object is app._response_synthesizer.service_context.llm_predictor based on other object (0x24ca5d8ebc0) using this function.\n",
      "A new object of type <class 'llama_index.query_engine.retriever_query_engine.RetrieverQueryEngine'> at 0x24deba2a530 is calling an instrumented method <function RetrieverQueryEngine.retrieve at 0x0000024A8B7E0EE0>. The path of this call may be incorrect.\n",
      "Guessing path of new object is app based on other object (0x24c46abe200) using this function.\n"
     ]
    },
    {
     "name": "stdout",
     "output_type": "stream",
     "text": [
      "> Merging 4 nodes into parent node.\n",
      "> Parent node id: 71ee34e1-207b-44b7-bf4a-8122a7021019.\n",
      "> Parent node text: PAGE 27There’s a lot we don’t know about the future: When will we cure Alzheimer’s disease? Who w...\n",
      "\n",
      "> Merging 1 nodes into parent node.\n",
      "> Parent node id: 656c700d-0fff-444e-bb4e-c9b0e6ede9b9.\n",
      "> Parent node text: PAGE 27There’s a lot we don’t know about the future: When will we cure Alzheimer’s disease? Who w...\n",
      "\n",
      "> Merging 1 nodes into parent node.\n",
      "> Parent node id: 82314910-6123-41c9-b853-0ff7b687765a.\n",
      "> Parent node text: PAGE 27There’s a lot we don’t know about the future: When will we cure Alzheimer’s disease? Who w...\n",
      "\n"
     ]
    },
    {
     "name": "stderr",
     "output_type": "stream",
     "text": [
      "A new object of type <class 'llama_index.response_synthesizers.compact_and_refine.CompactAndRefine'> at 0x24deba2a9e0 is calling an instrumented method <function Refine.get_response at 0x0000024A871B4040>. The path of this call may be incorrect.\n",
      "Guessing path of new object is app._response_synthesizer based on other object (0x24c46abd480) using this function.\n",
      "A new object of type <class 'llama_index.query_engine.retriever_query_engine.RetrieverQueryEngine'> at 0x24deba2a530 is calling an instrumented method <function RetrieverQueryEngine.retrieve at 0x0000024A8B7E0EE0>. The path of this call may be incorrect.\n",
      "Guessing path of new object is app based on other object (0x24c46abe200) using this function.\n"
     ]
    },
    {
     "name": "stdout",
     "output_type": "stream",
     "text": [
      "> Merging 4 nodes into parent node.\n",
      "> Parent node id: b1d82255-696b-4b23-bec9-18505efe1889.\n",
      "> Parent node text: PAGE 20Working on projects requires making tough choices about what to build and how to go \n",
      "about...\n",
      "\n",
      "> Merging 2 nodes into parent node.\n",
      "> Parent node id: 7e2c668b-b350-4290-89e2-38e6c117f9b5.\n",
      "> Parent node text: But when committing to a direction means making a costly investment or entering a one-\n",
      "way door  ...\n",
      "\n",
      "> Merging 2 nodes into parent node.\n",
      "> Parent node id: 2de97b98-deaf-4d39-a627-d11f7858efd2.\n",
      "> Parent node text: PAGE 20Working on projects requires making tough choices about what to build and how to go \n",
      "about...\n",
      "\n",
      "> Merging 1 nodes into parent node.\n",
      "> Parent node id: ca77974a-6440-4359-8ca7-c7b821141243.\n",
      "> Parent node text: PAGE 20Working on projects requires making tough choices about what to build and how to go \n",
      "about...\n",
      "\n"
     ]
    },
    {
     "name": "stderr",
     "output_type": "stream",
     "text": [
      "A new object of type <class 'llama_index.response_synthesizers.compact_and_refine.CompactAndRefine'> at 0x24deba2a9e0 is calling an instrumented method <function Refine.get_response at 0x0000024A871B4040>. The path of this call may be incorrect.\n",
      "Guessing path of new object is app._response_synthesizer based on other object (0x24c46abd480) using this function.\n",
      "A new object of type <class 'llama_index.query_engine.retriever_query_engine.RetrieverQueryEngine'> at 0x24deba2a530 is calling an instrumented method <function RetrieverQueryEngine.retrieve at 0x0000024A8B7E0EE0>. The path of this call may be incorrect.\n",
      "Guessing path of new object is app based on other object (0x24c46abe200) using this function.\n"
     ]
    },
    {
     "name": "stdout",
     "output_type": "stream",
     "text": [
      "> Merging 2 nodes into parent node.\n",
      "> Parent node id: 25e1fb47-ed65-48e8-992a-d13c1552ee04.\n",
      "> Parent node text: PAGE 6The rapid rise of AI has led to a rapid rise in AI jobs, and many people are building excit...\n",
      "\n",
      "> Merging 3 nodes into parent node.\n",
      "> Parent node id: bf6d34d1-6095-4867-a32d-c640017ba6bf.\n",
      "> Parent node text: PAGE 23Each project is only one step on a longer journey, hopefully one that has a positive impac...\n",
      "\n",
      "> Merging 1 nodes into parent node.\n",
      "> Parent node id: 0a0e28ef-284c-41bf-8f47-2fa624664e3c.\n",
      "> Parent node text: PAGE 6The rapid rise of AI has led to a rapid rise in AI jobs, and many people are building excit...\n",
      "\n",
      "> Merging 1 nodes into parent node.\n",
      "> Parent node id: 33e397e8-ba0b-4b8d-9e62-83d4fb562628.\n",
      "> Parent node text: PAGE 23Each project is only one step on a longer journey, hopefully one that has a positive impac...\n",
      "\n",
      "> Merging 1 nodes into parent node.\n",
      "> Parent node id: ada5d795-96c4-4989-b1c4-194631ad66c8.\n",
      "> Parent node text: PAGE 6The rapid rise of AI has led to a rapid rise in AI jobs, and many people are building excit...\n",
      "\n",
      "> Merging 1 nodes into parent node.\n",
      "> Parent node id: f1185fc2-c38f-49d8-bd36-828e97ee5a2e.\n",
      "> Parent node text: PAGE 23Each project is only one step on a longer journey, hopefully one that has a positive impac...\n",
      "\n"
     ]
    },
    {
     "name": "stderr",
     "output_type": "stream",
     "text": [
      "A new object of type <class 'llama_index.response_synthesizers.compact_and_refine.CompactAndRefine'> at 0x24deba2a9e0 is calling an instrumented method <function Refine.get_response at 0x0000024A871B4040>. The path of this call may be incorrect.\n",
      "Guessing path of new object is app._response_synthesizer based on other object (0x24c46abd480) using this function.\n",
      "A new object of type <class 'llama_index.query_engine.retriever_query_engine.RetrieverQueryEngine'> at 0x24deba2a530 is calling an instrumented method <function RetrieverQueryEngine.retrieve at 0x0000024A8B7E0EE0>. The path of this call may be incorrect.\n",
      "Guessing path of new object is app based on other object (0x24c46abe200) using this function.\n"
     ]
    },
    {
     "name": "stdout",
     "output_type": "stream",
     "text": [
      "> Merging 4 nodes into parent node.\n",
      "> Parent node id: 38f32c5e-0d70-4e1d-bdec-1df80f37bb73.\n",
      "> Parent node text: PAGE 9In the previous chapter, I introduced three key steps for building a career in AI: learning...\n",
      "\n",
      "> Merging 5 nodes into parent node.\n",
      "> Parent node id: 4136907d-f4d2-4731-81f1-43a1a6ddefd7.\n",
      "> Parent node text: PAGE 13Should you Learn Math to Get a Job in AI? CHAPTER 3\n",
      "Is math a foundational skill for AI? I...\n",
      "\n",
      "> Merging 1 nodes into parent node.\n",
      "> Parent node id: a0a7269d-d1bc-461d-9fe7-e68660086d6d.\n",
      "> Parent node text: PAGE 13Should you Learn Math to Get a Job in AI? CHAPTER 3\n",
      "Is math a foundational skill for AI? I...\n",
      "\n",
      "> Merging 1 nodes into parent node.\n",
      "> Parent node id: 91005fcf-232e-45e4-b125-83d73b08f3a9.\n",
      "> Parent node text: PAGE 13Should you Learn Math to Get a Job in AI? CHAPTER 3\n",
      "Is math a foundational skill for AI? I...\n",
      "\n"
     ]
    },
    {
     "name": "stderr",
     "output_type": "stream",
     "text": [
      "A new object of type <class 'llama_index.response_synthesizers.compact_and_refine.CompactAndRefine'> at 0x24deba2a9e0 is calling an instrumented method <function Refine.get_response at 0x0000024A871B4040>. The path of this call may be incorrect.\n",
      "Guessing path of new object is app._response_synthesizer based on other object (0x24c46abd480) using this function.\n"
     ]
    },
    {
     "name": "stdout",
     "output_type": "stream",
     "text": [
      "Starting dashboard ...\n",
      "Config file already exists. Skipping writing process.\n",
      "Credentials file already exists. Skipping writing process.\n",
      "Dashboard already running at path:   Network URL: http://192.168.0.4:8501\n",
      "\n"
     ]
    },
    {
     "data": {
      "text/plain": [
       "<Popen: returncode: None args: ['streamlit', 'run', '--server.headless=True'...>"
      ]
     },
     "execution_count": 31,
     "metadata": {},
     "output_type": "execute_result"
    }
   ],
   "source": [
    "auto_merging_index4 = build_automerging_index(\n",
    "                    documents=documents,\n",
    "                    llm=OpenAI(model=\"gpt-3.5-turbo\", temperature=0.1),\n",
    "                    embed_model=\"local:BAAI/bge-small-en-v1.5\",\n",
    "                    chunk_sizes=[8192, 2048, 512, 128],\n",
    "                    save_dir='./index/auto_merging_4'\n",
    "                    \n",
    ")\n",
    "\n",
    "auto_merging_engine4 = get_automerging_query_engine(\n",
    "                    automerging_index=auto_merging_index4,\n",
    "                    similarity_top_k=12,\n",
    "                    rerank_top_n=6\n",
    ")\n",
    "\n",
    "auto_merging_recorder4 = get_trulens_recorder(query_engine=auto_merging_engine4,\n",
    "                                              app_id='Auto Merging 4 Layers')\n",
    "run_evals(eval_questions, auto_merging_recorder4, auto_merging_engine4)\n",
    "Tru().run_dashboard()"
   ]
  },
  {
   "cell_type": "code",
   "execution_count": 38,
   "metadata": {},
   "outputs": [
    {
     "name": "stdout",
     "output_type": "stream",
     "text": [
      "> Merging 3 nodes into parent node.\n",
      "> Parent node id: 64ef689f-6e61-4022-822f-560aa9ba2660.\n",
      "> Parent node text: PAGE 38Before we dive into the final chapter of this book, I’d like to address the serious matter...\n",
      "\n"
     ]
    },
    {
     "data": {
      "text/plain": [
       "'성공적인 AI 프로젝트를 위해서는 목표를 설정하고 그에 맞게 계획을 세워야 합니다. 이를 위해 몇 가지 단계를 따를 수 있습니다. 첫 번째로, 주어진 도메인에서 AI가 차이를 만들 수 있는 분야를 찾아야 합니다. 두 번째로, 해당 분야에서 프로젝트 작업을 통해 탐색해야 합니다. 이를 통해 해당 분야에 대한 깊은 전문 지식이 없더라도 경험을 쌓을 수 있습니다. 마지막으로, AI는 모든 문제를 해결할 수는 없지만 긍정적인 영향을 미칠 수 있는 방법을 찾기 위해 노력해야 합니다. 따라서, 성공적인 AI 프로젝트를 위해서는 목표 설정과 주제 탐색이 중요합니다.'"
      ]
     },
     "execution_count": 38,
     "metadata": {},
     "output_type": "execute_result"
    }
   ],
   "source": [
    "auto_merging_engine2.query('성공적인 AI 프로젝트를 하기 위해서는 어떤 목표를 잡고 해야 할까? 그리고 주제 추전도 몇가지 해줘').response"
   ]
  },
  {
   "cell_type": "code",
   "execution_count": 37,
   "metadata": {},
   "outputs": [
    {
     "name": "stdout",
     "output_type": "stream",
     "text": [
      "> Merging 3 nodes into parent node.\n",
      "> Parent node id: 7adfe8e0-5c44-471e-81cf-5f807f34e4e4.\n",
      "> Parent node text: PAGE 38Before we dive into the final chapter of this book, I’d like to address the serious matter...\n",
      "\n",
      "> Merging 1 nodes into parent node.\n",
      "> Parent node id: 43108171-b418-41e6-bdbf-f26b9a451653.\n",
      "> Parent node text: PAGE 38Before we dive into the final chapter of this book, I’d like to address the serious matter...\n",
      "\n"
     ]
    },
    {
     "data": {
      "text/plain": [
       "'성공적인 AI 프로젝트를 수행하기 위해서는 목표를 명확하게 설정해야 합니다. 이를 위해 몇 가지 단계를 따를 수 있습니다. 첫째, 주제를 선택할 때 AI가 실질적인 영향을 줄 수 있는 도메인을 고려해야 합니다. 두 번째, 프로젝트 작업을 통해 해당 도메인에 대한 탐색을 진행해야 합니다. 세 번째, 해당 분야에 대한 깊은 전문 지식이 없더라도 프로젝트를 통해 경험을 쌓을 수 있습니다. 마지막으로, AI는 모든 문제를 해결할 수는 없지만 긍정적인 영향을 줄 수 있는 방법을 찾기 위해 노력해야 합니다.\\n\\n주제 추천은 주어진 문맥에서 직접적으로 언급되지 않았으므로 주제 추천에 대한 정보는 제공되지 않았습니다.'"
      ]
     },
     "execution_count": 37,
     "metadata": {},
     "output_type": "execute_result"
    }
   ],
   "source": [
    "auto_merging_engine3.query('성공적인 AI 프로젝트를 하기 위해서는 어떤 목표를 잡고 해야 할까? 그리고 주제 추전도 몇가지 해줘').response"
   ]
  }
 ],
 "metadata": {
  "kernelspec": {
   "display_name": "rag",
   "language": "python",
   "name": "python3"
  },
  "language_info": {
   "codemirror_mode": {
    "name": "ipython",
    "version": 3
   },
   "file_extension": ".py",
   "mimetype": "text/x-python",
   "name": "python",
   "nbconvert_exporter": "python",
   "pygments_lexer": "ipython3",
   "version": "3.10.13"
  }
 },
 "nbformat": 4,
 "nbformat_minor": 2
}
